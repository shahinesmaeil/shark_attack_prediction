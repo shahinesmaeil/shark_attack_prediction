{
  "cells": [
    {
      "cell_type": "markdown",
      "metadata": {
        "id": "ZstLnTYMQiNv"
      },
      "source": [
        "## Importing Modules"
      ]
    },
    {
      "cell_type": "code",
      "execution_count": null,
      "metadata": {
        "id": "9ezwBYv7QiNx"
      },
      "outputs": [],
      "source": [
        "import numpy as np\n",
        "import pandas as pd\n",
        "import seaborn as sns\n",
        "import matplotlib.pyplot as plt\n",
        "\n",
        "# Setting environment to ignore future warnings\n",
        "import warnings\n",
        "warnings.simplefilter('ignore')\n",
        "\n",
        "# Changing default pandas setting to custom\n",
        "pd.options.display.max_rows = 50\n",
        "pd.options.display.max_columns = 50"
      ]
    },
    {
      "cell_type": "markdown",
      "metadata": {
        "id": "rE10aSxuQiNy"
      },
      "source": [
        "## Loading Data"
      ]
    },
    {
      "cell_type": "markdown",
      "source": [
        "First of all we load the dataset using pandas, there is many functions in pandas through which we read the data in excel, csv database etc here we use a function read_csv that reads the data in a csv file and head()function is used to print the top 5 rows by default."
      ],
      "metadata": {
        "id": "awApeOJyqzYX"
      }
    },
    {
      "cell_type": "code",
      "execution_count": null,
      "metadata": {
        "id": "3LKEewhkQiNy",
        "outputId": "f54e9b65-5242-4c70-fce5-127dab48efff",
        "colab": {
          "base_uri": "https://localhost:8080/",
          "height": 238
        }
      },
      "outputs": [
        {
          "output_type": "execute_result",
          "data": {
            "text/plain": [
              "     murkiness.level  avg.dolphins.seen.per.day  previous.week.fishing  \\\n",
              "ID                                                                       \n",
              "245            13.11                   3.421591                0.59601   \n",
              "40             11.99                   2.874611                0.54274   \n",
              "424            12.91                   2.827774                0.52377   \n",
              "17             12.06                   2.772961                0.51963   \n",
              "283            15.06                   3.271684                0.58815   \n",
              "\n",
              "     diversity.of.prey  seals.seen  water.temp  people.previous.day  \\\n",
              "ID                                                                    \n",
              "245              34.66    6.718047    3.335635                 81.0   \n",
              "40               19.39    6.242029    3.127024                 49.0   \n",
              "424              15.75    6.397929    3.052446                 46.0   \n",
              "17               13.25    6.278146    3.114239                 43.0   \n",
              "283              47.14    6.932448    3.214831                 83.0   \n",
              "\n",
              "     seagull.density common.surfboard.colour  overcast.weather time.of.day  \\\n",
              "ID                                                                           \n",
              "245          0.69860                     red                 0   afternoon   \n",
              "40           0.62020                  orange                 0     morning   \n",
              "424          0.58235                     red                 0       night   \n",
              "17           0.57025                     red                 0   afternoon   \n",
              "283          0.71150                     red                 0     morning   \n",
              "\n",
              "     shark  \n",
              "ID          \n",
              "245      1  \n",
              "40       0  \n",
              "424      0  \n",
              "17       1  \n",
              "283      1  "
            ],
            "text/html": [
              "\n",
              "  <div id=\"df-c62960c3-93b0-4497-bac5-7c6d35639fe9\">\n",
              "    <div class=\"colab-df-container\">\n",
              "      <div>\n",
              "<style scoped>\n",
              "    .dataframe tbody tr th:only-of-type {\n",
              "        vertical-align: middle;\n",
              "    }\n",
              "\n",
              "    .dataframe tbody tr th {\n",
              "        vertical-align: top;\n",
              "    }\n",
              "\n",
              "    .dataframe thead th {\n",
              "        text-align: right;\n",
              "    }\n",
              "</style>\n",
              "<table border=\"1\" class=\"dataframe\">\n",
              "  <thead>\n",
              "    <tr style=\"text-align: right;\">\n",
              "      <th></th>\n",
              "      <th>murkiness.level</th>\n",
              "      <th>avg.dolphins.seen.per.day</th>\n",
              "      <th>previous.week.fishing</th>\n",
              "      <th>diversity.of.prey</th>\n",
              "      <th>seals.seen</th>\n",
              "      <th>water.temp</th>\n",
              "      <th>people.previous.day</th>\n",
              "      <th>seagull.density</th>\n",
              "      <th>common.surfboard.colour</th>\n",
              "      <th>overcast.weather</th>\n",
              "      <th>time.of.day</th>\n",
              "      <th>shark</th>\n",
              "    </tr>\n",
              "    <tr>\n",
              "      <th>ID</th>\n",
              "      <th></th>\n",
              "      <th></th>\n",
              "      <th></th>\n",
              "      <th></th>\n",
              "      <th></th>\n",
              "      <th></th>\n",
              "      <th></th>\n",
              "      <th></th>\n",
              "      <th></th>\n",
              "      <th></th>\n",
              "      <th></th>\n",
              "      <th></th>\n",
              "    </tr>\n",
              "  </thead>\n",
              "  <tbody>\n",
              "    <tr>\n",
              "      <th>245</th>\n",
              "      <td>13.11</td>\n",
              "      <td>3.421591</td>\n",
              "      <td>0.59601</td>\n",
              "      <td>34.66</td>\n",
              "      <td>6.718047</td>\n",
              "      <td>3.335635</td>\n",
              "      <td>81.0</td>\n",
              "      <td>0.69860</td>\n",
              "      <td>red</td>\n",
              "      <td>0</td>\n",
              "      <td>afternoon</td>\n",
              "      <td>1</td>\n",
              "    </tr>\n",
              "    <tr>\n",
              "      <th>40</th>\n",
              "      <td>11.99</td>\n",
              "      <td>2.874611</td>\n",
              "      <td>0.54274</td>\n",
              "      <td>19.39</td>\n",
              "      <td>6.242029</td>\n",
              "      <td>3.127024</td>\n",
              "      <td>49.0</td>\n",
              "      <td>0.62020</td>\n",
              "      <td>orange</td>\n",
              "      <td>0</td>\n",
              "      <td>morning</td>\n",
              "      <td>0</td>\n",
              "    </tr>\n",
              "    <tr>\n",
              "      <th>424</th>\n",
              "      <td>12.91</td>\n",
              "      <td>2.827774</td>\n",
              "      <td>0.52377</td>\n",
              "      <td>15.75</td>\n",
              "      <td>6.397929</td>\n",
              "      <td>3.052446</td>\n",
              "      <td>46.0</td>\n",
              "      <td>0.58235</td>\n",
              "      <td>red</td>\n",
              "      <td>0</td>\n",
              "      <td>night</td>\n",
              "      <td>0</td>\n",
              "    </tr>\n",
              "    <tr>\n",
              "      <th>17</th>\n",
              "      <td>12.06</td>\n",
              "      <td>2.772961</td>\n",
              "      <td>0.51963</td>\n",
              "      <td>13.25</td>\n",
              "      <td>6.278146</td>\n",
              "      <td>3.114239</td>\n",
              "      <td>43.0</td>\n",
              "      <td>0.57025</td>\n",
              "      <td>red</td>\n",
              "      <td>0</td>\n",
              "      <td>afternoon</td>\n",
              "      <td>1</td>\n",
              "    </tr>\n",
              "    <tr>\n",
              "      <th>283</th>\n",
              "      <td>15.06</td>\n",
              "      <td>3.271684</td>\n",
              "      <td>0.58815</td>\n",
              "      <td>47.14</td>\n",
              "      <td>6.932448</td>\n",
              "      <td>3.214831</td>\n",
              "      <td>83.0</td>\n",
              "      <td>0.71150</td>\n",
              "      <td>red</td>\n",
              "      <td>0</td>\n",
              "      <td>morning</td>\n",
              "      <td>1</td>\n",
              "    </tr>\n",
              "  </tbody>\n",
              "</table>\n",
              "</div>\n",
              "      <button class=\"colab-df-convert\" onclick=\"convertToInteractive('df-c62960c3-93b0-4497-bac5-7c6d35639fe9')\"\n",
              "              title=\"Convert this dataframe to an interactive table.\"\n",
              "              style=\"display:none;\">\n",
              "        \n",
              "  <svg xmlns=\"http://www.w3.org/2000/svg\" height=\"24px\"viewBox=\"0 0 24 24\"\n",
              "       width=\"24px\">\n",
              "    <path d=\"M0 0h24v24H0V0z\" fill=\"none\"/>\n",
              "    <path d=\"M18.56 5.44l.94 2.06.94-2.06 2.06-.94-2.06-.94-.94-2.06-.94 2.06-2.06.94zm-11 1L8.5 8.5l.94-2.06 2.06-.94-2.06-.94L8.5 2.5l-.94 2.06-2.06.94zm10 10l.94 2.06.94-2.06 2.06-.94-2.06-.94-.94-2.06-.94 2.06-2.06.94z\"/><path d=\"M17.41 7.96l-1.37-1.37c-.4-.4-.92-.59-1.43-.59-.52 0-1.04.2-1.43.59L10.3 9.45l-7.72 7.72c-.78.78-.78 2.05 0 2.83L4 21.41c.39.39.9.59 1.41.59.51 0 1.02-.2 1.41-.59l7.78-7.78 2.81-2.81c.8-.78.8-2.07 0-2.86zM5.41 20L4 18.59l7.72-7.72 1.47 1.35L5.41 20z\"/>\n",
              "  </svg>\n",
              "      </button>\n",
              "      \n",
              "  <style>\n",
              "    .colab-df-container {\n",
              "      display:flex;\n",
              "      flex-wrap:wrap;\n",
              "      gap: 12px;\n",
              "    }\n",
              "\n",
              "    .colab-df-convert {\n",
              "      background-color: #E8F0FE;\n",
              "      border: none;\n",
              "      border-radius: 50%;\n",
              "      cursor: pointer;\n",
              "      display: none;\n",
              "      fill: #1967D2;\n",
              "      height: 32px;\n",
              "      padding: 0 0 0 0;\n",
              "      width: 32px;\n",
              "    }\n",
              "\n",
              "    .colab-df-convert:hover {\n",
              "      background-color: #E2EBFA;\n",
              "      box-shadow: 0px 1px 2px rgba(60, 64, 67, 0.3), 0px 1px 3px 1px rgba(60, 64, 67, 0.15);\n",
              "      fill: #174EA6;\n",
              "    }\n",
              "\n",
              "    [theme=dark] .colab-df-convert {\n",
              "      background-color: #3B4455;\n",
              "      fill: #D2E3FC;\n",
              "    }\n",
              "\n",
              "    [theme=dark] .colab-df-convert:hover {\n",
              "      background-color: #434B5C;\n",
              "      box-shadow: 0px 1px 3px 1px rgba(0, 0, 0, 0.15);\n",
              "      filter: drop-shadow(0px 1px 2px rgba(0, 0, 0, 0.3));\n",
              "      fill: #FFFFFF;\n",
              "    }\n",
              "  </style>\n",
              "\n",
              "      <script>\n",
              "        const buttonEl =\n",
              "          document.querySelector('#df-c62960c3-93b0-4497-bac5-7c6d35639fe9 button.colab-df-convert');\n",
              "        buttonEl.style.display =\n",
              "          google.colab.kernel.accessAllowed ? 'block' : 'none';\n",
              "\n",
              "        async function convertToInteractive(key) {\n",
              "          const element = document.querySelector('#df-c62960c3-93b0-4497-bac5-7c6d35639fe9');\n",
              "          const dataTable =\n",
              "            await google.colab.kernel.invokeFunction('convertToInteractive',\n",
              "                                                     [key], {});\n",
              "          if (!dataTable) return;\n",
              "\n",
              "          const docLinkHtml = 'Like what you see? Visit the ' +\n",
              "            '<a target=\"_blank\" href=https://colab.research.google.com/notebooks/data_table.ipynb>data table notebook</a>'\n",
              "            + ' to learn more about interactive tables.';\n",
              "          element.innerHTML = '';\n",
              "          dataTable['output_type'] = 'display_data';\n",
              "          await google.colab.output.renderOutput(dataTable, element);\n",
              "          const docLink = document.createElement('div');\n",
              "          docLink.innerHTML = docLinkHtml;\n",
              "          element.appendChild(docLink);\n",
              "        }\n",
              "      </script>\n",
              "    </div>\n",
              "  </div>\n",
              "  "
            ]
          },
          "metadata": {},
          "execution_count": 2
        }
      ],
      "source": [
        "df = pd.read_csv(\"sharks.csv\", index_col=[-1])\n",
        "df.head()"
      ]
    },
    {
      "cell_type": "markdown",
      "metadata": {
        "id": "BHuwhysFQiNz"
      },
      "source": [
        "# Data Exploration"
      ]
    },
    {
      "cell_type": "markdown",
      "source": [
        "Before moving forward we need to know the following information from our data such as its shape, size of dataset and we print the numerical and categorical columns. Moreover use .info() method to get the datatypes of all columns and after that we deep dive into the statistical summary of the dataset.\n",
        "\n",
        "The statistical summary shows the variation in data, its spread inaddition to other important things aswell such mean and mode of the data where then we compare the spread of different columns of shark data that assists in taking two decisions and that is to either go with feature selection or not. Also helps us to identify the need to scale the features and statistical summary of categorical features tells us the unique, top value of the categorical features."
      ],
      "metadata": {
        "id": "yxMLrKGjricG"
      }
    },
    {
      "cell_type": "markdown",
      "source": [
        "The spread of the murkiness.level is very large and there is big differences between minimum and the maximum value. All other features have low spread and low minimum and maximum values, so overall we don't need any feature scaling on this specific dataset."
      ],
      "metadata": {
        "id": "YzrjayBOs_PY"
      }
    },
    {
      "cell_type": "code",
      "execution_count": null,
      "metadata": {
        "id": "IQ5-mSvwQiN0"
      },
      "outputs": [],
      "source": [
        "# Function to perform all EDA\n",
        "def perform_eda(df, name=\"\"):\n",
        "    # Printing basic detail of data like name, size, shape\n",
        "    print(f\"EDA of {str(name)} Data....\")\n",
        "    print(f\"Size {df.size}\")\n",
        "    print(f\"Columns {df.shape[1]}\")\n",
        "    print(f\"Records {df.shape[0]}\")\n",
        "    print(\"=\"*50)\n",
        "\n",
        "    # Printing top 5 records of data\n",
        "    print(\"First Look of Data....\")\n",
        "    display(df.head())\n",
        "    print(\"=\"*50)\n",
        "\n",
        "    # Getting Numerical and Categorical columns Separately\n",
        "    cat_cols = df.select_dtypes(np.object).columns\n",
        "    num_cols = df.select_dtypes(np.number).columns\n",
        "\n",
        "    # Printing the Numerical columns\n",
        "    print(\"Dataset has following Numerical columns...\")\n",
        "    for i, j in enumerate(num_cols):\n",
        "        print(f\" {i+1}) {j}\")\n",
        "\n",
        "    # Printing the Categorical columns\n",
        "    print(\"\\n\\nDataset has following Categorical columns...\")\n",
        "    for i, j in enumerate(cat_cols):\n",
        "        print(f\" {i+1}) {j}\")\n",
        "\n",
        "    # Printing info of data like data type, non null values\n",
        "    print()\n",
        "    print(\"=\"*50)\n",
        "    print(\"Information of Data....\")\n",
        "    print(df.info())\n",
        "    print(\"=\"*50)\n",
        "\n",
        "    # Displaying statistical properties of data like mean, median, max, min\n",
        "    print(\"Statistical Properties of Data....\")\n",
        "    display(df.describe(include=\"all\"))\n",
        "    print(\"=\"*50)"
      ]
    },
    {
      "cell_type": "code",
      "execution_count": null,
      "metadata": {
        "id": "TvldS0KrQiN1",
        "outputId": "4353bcd3-b7d4-4462-84b0-9c29b4b8e71b",
        "colab": {
          "base_uri": "https://localhost:8080/",
          "height": 1000
        }
      },
      "outputs": [
        {
          "output_type": "stream",
          "name": "stdout",
          "text": [
            "EDA of Sharks Data....\n",
            "Size 5472\n",
            "Columns 12\n",
            "Records 456\n",
            "==================================================\n",
            "First Look of Data....\n"
          ]
        },
        {
          "output_type": "display_data",
          "data": {
            "text/plain": [
              "     murkiness.level  avg.dolphins.seen.per.day  previous.week.fishing  \\\n",
              "ID                                                                       \n",
              "245            13.11                   3.421591                0.59601   \n",
              "40             11.99                   2.874611                0.54274   \n",
              "424            12.91                   2.827774                0.52377   \n",
              "17             12.06                   2.772961                0.51963   \n",
              "283            15.06                   3.271684                0.58815   \n",
              "\n",
              "     diversity.of.prey  seals.seen  water.temp  people.previous.day  \\\n",
              "ID                                                                    \n",
              "245              34.66    6.718047    3.335635                 81.0   \n",
              "40               19.39    6.242029    3.127024                 49.0   \n",
              "424              15.75    6.397929    3.052446                 46.0   \n",
              "17               13.25    6.278146    3.114239                 43.0   \n",
              "283              47.14    6.932448    3.214831                 83.0   \n",
              "\n",
              "     seagull.density common.surfboard.colour  overcast.weather time.of.day  \\\n",
              "ID                                                                           \n",
              "245          0.69860                     red                 0   afternoon   \n",
              "40           0.62020                  orange                 0     morning   \n",
              "424          0.58235                     red                 0       night   \n",
              "17           0.57025                     red                 0   afternoon   \n",
              "283          0.71150                     red                 0     morning   \n",
              "\n",
              "     shark  \n",
              "ID          \n",
              "245      1  \n",
              "40       0  \n",
              "424      0  \n",
              "17       1  \n",
              "283      1  "
            ],
            "text/html": [
              "\n",
              "  <div id=\"df-addda821-2f87-42ae-a3d9-137c6ea5be82\">\n",
              "    <div class=\"colab-df-container\">\n",
              "      <div>\n",
              "<style scoped>\n",
              "    .dataframe tbody tr th:only-of-type {\n",
              "        vertical-align: middle;\n",
              "    }\n",
              "\n",
              "    .dataframe tbody tr th {\n",
              "        vertical-align: top;\n",
              "    }\n",
              "\n",
              "    .dataframe thead th {\n",
              "        text-align: right;\n",
              "    }\n",
              "</style>\n",
              "<table border=\"1\" class=\"dataframe\">\n",
              "  <thead>\n",
              "    <tr style=\"text-align: right;\">\n",
              "      <th></th>\n",
              "      <th>murkiness.level</th>\n",
              "      <th>avg.dolphins.seen.per.day</th>\n",
              "      <th>previous.week.fishing</th>\n",
              "      <th>diversity.of.prey</th>\n",
              "      <th>seals.seen</th>\n",
              "      <th>water.temp</th>\n",
              "      <th>people.previous.day</th>\n",
              "      <th>seagull.density</th>\n",
              "      <th>common.surfboard.colour</th>\n",
              "      <th>overcast.weather</th>\n",
              "      <th>time.of.day</th>\n",
              "      <th>shark</th>\n",
              "    </tr>\n",
              "    <tr>\n",
              "      <th>ID</th>\n",
              "      <th></th>\n",
              "      <th></th>\n",
              "      <th></th>\n",
              "      <th></th>\n",
              "      <th></th>\n",
              "      <th></th>\n",
              "      <th></th>\n",
              "      <th></th>\n",
              "      <th></th>\n",
              "      <th></th>\n",
              "      <th></th>\n",
              "      <th></th>\n",
              "    </tr>\n",
              "  </thead>\n",
              "  <tbody>\n",
              "    <tr>\n",
              "      <th>245</th>\n",
              "      <td>13.11</td>\n",
              "      <td>3.421591</td>\n",
              "      <td>0.59601</td>\n",
              "      <td>34.66</td>\n",
              "      <td>6.718047</td>\n",
              "      <td>3.335635</td>\n",
              "      <td>81.0</td>\n",
              "      <td>0.69860</td>\n",
              "      <td>red</td>\n",
              "      <td>0</td>\n",
              "      <td>afternoon</td>\n",
              "      <td>1</td>\n",
              "    </tr>\n",
              "    <tr>\n",
              "      <th>40</th>\n",
              "      <td>11.99</td>\n",
              "      <td>2.874611</td>\n",
              "      <td>0.54274</td>\n",
              "      <td>19.39</td>\n",
              "      <td>6.242029</td>\n",
              "      <td>3.127024</td>\n",
              "      <td>49.0</td>\n",
              "      <td>0.62020</td>\n",
              "      <td>orange</td>\n",
              "      <td>0</td>\n",
              "      <td>morning</td>\n",
              "      <td>0</td>\n",
              "    </tr>\n",
              "    <tr>\n",
              "      <th>424</th>\n",
              "      <td>12.91</td>\n",
              "      <td>2.827774</td>\n",
              "      <td>0.52377</td>\n",
              "      <td>15.75</td>\n",
              "      <td>6.397929</td>\n",
              "      <td>3.052446</td>\n",
              "      <td>46.0</td>\n",
              "      <td>0.58235</td>\n",
              "      <td>red</td>\n",
              "      <td>0</td>\n",
              "      <td>night</td>\n",
              "      <td>0</td>\n",
              "    </tr>\n",
              "    <tr>\n",
              "      <th>17</th>\n",
              "      <td>12.06</td>\n",
              "      <td>2.772961</td>\n",
              "      <td>0.51963</td>\n",
              "      <td>13.25</td>\n",
              "      <td>6.278146</td>\n",
              "      <td>3.114239</td>\n",
              "      <td>43.0</td>\n",
              "      <td>0.57025</td>\n",
              "      <td>red</td>\n",
              "      <td>0</td>\n",
              "      <td>afternoon</td>\n",
              "      <td>1</td>\n",
              "    </tr>\n",
              "    <tr>\n",
              "      <th>283</th>\n",
              "      <td>15.06</td>\n",
              "      <td>3.271684</td>\n",
              "      <td>0.58815</td>\n",
              "      <td>47.14</td>\n",
              "      <td>6.932448</td>\n",
              "      <td>3.214831</td>\n",
              "      <td>83.0</td>\n",
              "      <td>0.71150</td>\n",
              "      <td>red</td>\n",
              "      <td>0</td>\n",
              "      <td>morning</td>\n",
              "      <td>1</td>\n",
              "    </tr>\n",
              "  </tbody>\n",
              "</table>\n",
              "</div>\n",
              "      <button class=\"colab-df-convert\" onclick=\"convertToInteractive('df-addda821-2f87-42ae-a3d9-137c6ea5be82')\"\n",
              "              title=\"Convert this dataframe to an interactive table.\"\n",
              "              style=\"display:none;\">\n",
              "        \n",
              "  <svg xmlns=\"http://www.w3.org/2000/svg\" height=\"24px\"viewBox=\"0 0 24 24\"\n",
              "       width=\"24px\">\n",
              "    <path d=\"M0 0h24v24H0V0z\" fill=\"none\"/>\n",
              "    <path d=\"M18.56 5.44l.94 2.06.94-2.06 2.06-.94-2.06-.94-.94-2.06-.94 2.06-2.06.94zm-11 1L8.5 8.5l.94-2.06 2.06-.94-2.06-.94L8.5 2.5l-.94 2.06-2.06.94zm10 10l.94 2.06.94-2.06 2.06-.94-2.06-.94-.94-2.06-.94 2.06-2.06.94z\"/><path d=\"M17.41 7.96l-1.37-1.37c-.4-.4-.92-.59-1.43-.59-.52 0-1.04.2-1.43.59L10.3 9.45l-7.72 7.72c-.78.78-.78 2.05 0 2.83L4 21.41c.39.39.9.59 1.41.59.51 0 1.02-.2 1.41-.59l7.78-7.78 2.81-2.81c.8-.78.8-2.07 0-2.86zM5.41 20L4 18.59l7.72-7.72 1.47 1.35L5.41 20z\"/>\n",
              "  </svg>\n",
              "      </button>\n",
              "      \n",
              "  <style>\n",
              "    .colab-df-container {\n",
              "      display:flex;\n",
              "      flex-wrap:wrap;\n",
              "      gap: 12px;\n",
              "    }\n",
              "\n",
              "    .colab-df-convert {\n",
              "      background-color: #E8F0FE;\n",
              "      border: none;\n",
              "      border-radius: 50%;\n",
              "      cursor: pointer;\n",
              "      display: none;\n",
              "      fill: #1967D2;\n",
              "      height: 32px;\n",
              "      padding: 0 0 0 0;\n",
              "      width: 32px;\n",
              "    }\n",
              "\n",
              "    .colab-df-convert:hover {\n",
              "      background-color: #E2EBFA;\n",
              "      box-shadow: 0px 1px 2px rgba(60, 64, 67, 0.3), 0px 1px 3px 1px rgba(60, 64, 67, 0.15);\n",
              "      fill: #174EA6;\n",
              "    }\n",
              "\n",
              "    [theme=dark] .colab-df-convert {\n",
              "      background-color: #3B4455;\n",
              "      fill: #D2E3FC;\n",
              "    }\n",
              "\n",
              "    [theme=dark] .colab-df-convert:hover {\n",
              "      background-color: #434B5C;\n",
              "      box-shadow: 0px 1px 3px 1px rgba(0, 0, 0, 0.15);\n",
              "      filter: drop-shadow(0px 1px 2px rgba(0, 0, 0, 0.3));\n",
              "      fill: #FFFFFF;\n",
              "    }\n",
              "  </style>\n",
              "\n",
              "      <script>\n",
              "        const buttonEl =\n",
              "          document.querySelector('#df-addda821-2f87-42ae-a3d9-137c6ea5be82 button.colab-df-convert');\n",
              "        buttonEl.style.display =\n",
              "          google.colab.kernel.accessAllowed ? 'block' : 'none';\n",
              "\n",
              "        async function convertToInteractive(key) {\n",
              "          const element = document.querySelector('#df-addda821-2f87-42ae-a3d9-137c6ea5be82');\n",
              "          const dataTable =\n",
              "            await google.colab.kernel.invokeFunction('convertToInteractive',\n",
              "                                                     [key], {});\n",
              "          if (!dataTable) return;\n",
              "\n",
              "          const docLinkHtml = 'Like what you see? Visit the ' +\n",
              "            '<a target=\"_blank\" href=https://colab.research.google.com/notebooks/data_table.ipynb>data table notebook</a>'\n",
              "            + ' to learn more about interactive tables.';\n",
              "          element.innerHTML = '';\n",
              "          dataTable['output_type'] = 'display_data';\n",
              "          await google.colab.output.renderOutput(dataTable, element);\n",
              "          const docLink = document.createElement('div');\n",
              "          docLink.innerHTML = docLinkHtml;\n",
              "          element.appendChild(docLink);\n",
              "        }\n",
              "      </script>\n",
              "    </div>\n",
              "  </div>\n",
              "  "
            ]
          },
          "metadata": {}
        },
        {
          "output_type": "stream",
          "name": "stdout",
          "text": [
            "==================================================\n",
            "Dataset has following Numerical columns...\n",
            " 1) murkiness.level\n",
            " 2) avg.dolphins.seen.per.day\n",
            " 3) previous.week.fishing\n",
            " 4) diversity.of.prey\n",
            " 5) seals.seen\n",
            " 6) water.temp\n",
            " 7) people.previous.day\n",
            " 8) seagull.density\n",
            " 9) overcast.weather\n",
            " 10) shark\n",
            "\n",
            "\n",
            "Dataset has following Categorical columns...\n",
            " 1) common.surfboard.colour\n",
            " 2) time.of.day\n",
            "\n",
            "==================================================\n",
            "Information of Data....\n",
            "<class 'pandas.core.frame.DataFrame'>\n",
            "Int64Index: 456 entries, 245 to 366\n",
            "Data columns (total 12 columns):\n",
            " #   Column                     Non-Null Count  Dtype  \n",
            "---  ------                     --------------  -----  \n",
            " 0   murkiness.level            456 non-null    float64\n",
            " 1   avg.dolphins.seen.per.day  455 non-null    float64\n",
            " 2   previous.week.fishing      455 non-null    float64\n",
            " 3   diversity.of.prey          455 non-null    float64\n",
            " 4   seals.seen                 456 non-null    float64\n",
            " 5   water.temp                 455 non-null    float64\n",
            " 6   people.previous.day        453 non-null    float64\n",
            " 7   seagull.density            456 non-null    float64\n",
            " 8   common.surfboard.colour    456 non-null    object \n",
            " 9   overcast.weather           456 non-null    int64  \n",
            " 10  time.of.day                456 non-null    object \n",
            " 11  shark                      456 non-null    int64  \n",
            "dtypes: float64(8), int64(2), object(2)\n",
            "memory usage: 46.3+ KB\n",
            "None\n",
            "==================================================\n",
            "Statistical Properties of Data....\n"
          ]
        },
        {
          "output_type": "display_data",
          "data": {
            "text/plain": [
              "        murkiness.level  avg.dolphins.seen.per.day  previous.week.fishing  \\\n",
              "count        456.000000                 455.000000             455.000000   \n",
              "unique              NaN                        NaN                    NaN   \n",
              "top                 NaN                        NaN                    NaN   \n",
              "freq                NaN                        NaN                    NaN   \n",
              "mean          22.857656                   3.010865               0.549480   \n",
              "std          130.770478                   0.317467               0.040428   \n",
              "min            6.981000                   2.718282               0.500000   \n",
              "25%           11.697500                   2.796446               0.519315   \n",
              "50%           13.275000                   2.888364               0.533340   \n",
              "75%           16.040000                   3.123109               0.576595   \n",
              "max         1990.200000                   4.629025               0.701200   \n",
              "\n",
              "        diversity.of.prey  seals.seen  water.temp  people.previous.day  \\\n",
              "count          455.000000  456.000000  455.000000           453.000000   \n",
              "unique                NaN         NaN         NaN                  NaN   \n",
              "top                   NaN         NaN         NaN                  NaN   \n",
              "freq                  NaN         NaN         NaN                  NaN   \n",
              "mean            41.681767    6.623185    3.132817            61.249448   \n",
              "std             49.059173    0.563944    0.081336            27.191830   \n",
              "min              6.802000    5.221436    2.926373            34.000000   \n",
              "25%             17.740000    6.244118    3.076468            45.000000   \n",
              "50%             24.600000    6.516562    3.127381            53.000000   \n",
              "75%             45.410000    6.989334    3.181002            69.000000   \n",
              "max            542.200000    8.355615    3.487973           267.000000   \n",
              "\n",
              "        seagull.density common.surfboard.colour  overcast.weather time.of.day  \\\n",
              "count        456.000000                     456        456.000000         456   \n",
              "unique              NaN                       4               NaN           4   \n",
              "top                 NaN                     red               NaN       night   \n",
              "freq                NaN                     216               NaN         172   \n",
              "mean           0.613652                     NaN          0.004386         NaN   \n",
              "std            0.067054                     NaN          0.066154         NaN   \n",
              "min            0.500000                     NaN          0.000000         NaN   \n",
              "25%            0.562885                     NaN          0.000000         NaN   \n",
              "50%            0.598840                     NaN          0.000000         NaN   \n",
              "75%            0.661300                     NaN          0.000000         NaN   \n",
              "max            0.791000                     NaN          1.000000         NaN   \n",
              "\n",
              "             shark  \n",
              "count   456.000000  \n",
              "unique         NaN  \n",
              "top            NaN  \n",
              "freq           NaN  \n",
              "mean      0.368421  \n",
              "std       0.482906  \n",
              "min       0.000000  \n",
              "25%       0.000000  \n",
              "50%       0.000000  \n",
              "75%       1.000000  \n",
              "max       1.000000  "
            ],
            "text/html": [
              "\n",
              "  <div id=\"df-17111ff8-147c-4b6a-a194-0a638d94c19d\">\n",
              "    <div class=\"colab-df-container\">\n",
              "      <div>\n",
              "<style scoped>\n",
              "    .dataframe tbody tr th:only-of-type {\n",
              "        vertical-align: middle;\n",
              "    }\n",
              "\n",
              "    .dataframe tbody tr th {\n",
              "        vertical-align: top;\n",
              "    }\n",
              "\n",
              "    .dataframe thead th {\n",
              "        text-align: right;\n",
              "    }\n",
              "</style>\n",
              "<table border=\"1\" class=\"dataframe\">\n",
              "  <thead>\n",
              "    <tr style=\"text-align: right;\">\n",
              "      <th></th>\n",
              "      <th>murkiness.level</th>\n",
              "      <th>avg.dolphins.seen.per.day</th>\n",
              "      <th>previous.week.fishing</th>\n",
              "      <th>diversity.of.prey</th>\n",
              "      <th>seals.seen</th>\n",
              "      <th>water.temp</th>\n",
              "      <th>people.previous.day</th>\n",
              "      <th>seagull.density</th>\n",
              "      <th>common.surfboard.colour</th>\n",
              "      <th>overcast.weather</th>\n",
              "      <th>time.of.day</th>\n",
              "      <th>shark</th>\n",
              "    </tr>\n",
              "  </thead>\n",
              "  <tbody>\n",
              "    <tr>\n",
              "      <th>count</th>\n",
              "      <td>456.000000</td>\n",
              "      <td>455.000000</td>\n",
              "      <td>455.000000</td>\n",
              "      <td>455.000000</td>\n",
              "      <td>456.000000</td>\n",
              "      <td>455.000000</td>\n",
              "      <td>453.000000</td>\n",
              "      <td>456.000000</td>\n",
              "      <td>456</td>\n",
              "      <td>456.000000</td>\n",
              "      <td>456</td>\n",
              "      <td>456.000000</td>\n",
              "    </tr>\n",
              "    <tr>\n",
              "      <th>unique</th>\n",
              "      <td>NaN</td>\n",
              "      <td>NaN</td>\n",
              "      <td>NaN</td>\n",
              "      <td>NaN</td>\n",
              "      <td>NaN</td>\n",
              "      <td>NaN</td>\n",
              "      <td>NaN</td>\n",
              "      <td>NaN</td>\n",
              "      <td>4</td>\n",
              "      <td>NaN</td>\n",
              "      <td>4</td>\n",
              "      <td>NaN</td>\n",
              "    </tr>\n",
              "    <tr>\n",
              "      <th>top</th>\n",
              "      <td>NaN</td>\n",
              "      <td>NaN</td>\n",
              "      <td>NaN</td>\n",
              "      <td>NaN</td>\n",
              "      <td>NaN</td>\n",
              "      <td>NaN</td>\n",
              "      <td>NaN</td>\n",
              "      <td>NaN</td>\n",
              "      <td>red</td>\n",
              "      <td>NaN</td>\n",
              "      <td>night</td>\n",
              "      <td>NaN</td>\n",
              "    </tr>\n",
              "    <tr>\n",
              "      <th>freq</th>\n",
              "      <td>NaN</td>\n",
              "      <td>NaN</td>\n",
              "      <td>NaN</td>\n",
              "      <td>NaN</td>\n",
              "      <td>NaN</td>\n",
              "      <td>NaN</td>\n",
              "      <td>NaN</td>\n",
              "      <td>NaN</td>\n",
              "      <td>216</td>\n",
              "      <td>NaN</td>\n",
              "      <td>172</td>\n",
              "      <td>NaN</td>\n",
              "    </tr>\n",
              "    <tr>\n",
              "      <th>mean</th>\n",
              "      <td>22.857656</td>\n",
              "      <td>3.010865</td>\n",
              "      <td>0.549480</td>\n",
              "      <td>41.681767</td>\n",
              "      <td>6.623185</td>\n",
              "      <td>3.132817</td>\n",
              "      <td>61.249448</td>\n",
              "      <td>0.613652</td>\n",
              "      <td>NaN</td>\n",
              "      <td>0.004386</td>\n",
              "      <td>NaN</td>\n",
              "      <td>0.368421</td>\n",
              "    </tr>\n",
              "    <tr>\n",
              "      <th>std</th>\n",
              "      <td>130.770478</td>\n",
              "      <td>0.317467</td>\n",
              "      <td>0.040428</td>\n",
              "      <td>49.059173</td>\n",
              "      <td>0.563944</td>\n",
              "      <td>0.081336</td>\n",
              "      <td>27.191830</td>\n",
              "      <td>0.067054</td>\n",
              "      <td>NaN</td>\n",
              "      <td>0.066154</td>\n",
              "      <td>NaN</td>\n",
              "      <td>0.482906</td>\n",
              "    </tr>\n",
              "    <tr>\n",
              "      <th>min</th>\n",
              "      <td>6.981000</td>\n",
              "      <td>2.718282</td>\n",
              "      <td>0.500000</td>\n",
              "      <td>6.802000</td>\n",
              "      <td>5.221436</td>\n",
              "      <td>2.926373</td>\n",
              "      <td>34.000000</td>\n",
              "      <td>0.500000</td>\n",
              "      <td>NaN</td>\n",
              "      <td>0.000000</td>\n",
              "      <td>NaN</td>\n",
              "      <td>0.000000</td>\n",
              "    </tr>\n",
              "    <tr>\n",
              "      <th>25%</th>\n",
              "      <td>11.697500</td>\n",
              "      <td>2.796446</td>\n",
              "      <td>0.519315</td>\n",
              "      <td>17.740000</td>\n",
              "      <td>6.244118</td>\n",
              "      <td>3.076468</td>\n",
              "      <td>45.000000</td>\n",
              "      <td>0.562885</td>\n",
              "      <td>NaN</td>\n",
              "      <td>0.000000</td>\n",
              "      <td>NaN</td>\n",
              "      <td>0.000000</td>\n",
              "    </tr>\n",
              "    <tr>\n",
              "      <th>50%</th>\n",
              "      <td>13.275000</td>\n",
              "      <td>2.888364</td>\n",
              "      <td>0.533340</td>\n",
              "      <td>24.600000</td>\n",
              "      <td>6.516562</td>\n",
              "      <td>3.127381</td>\n",
              "      <td>53.000000</td>\n",
              "      <td>0.598840</td>\n",
              "      <td>NaN</td>\n",
              "      <td>0.000000</td>\n",
              "      <td>NaN</td>\n",
              "      <td>0.000000</td>\n",
              "    </tr>\n",
              "    <tr>\n",
              "      <th>75%</th>\n",
              "      <td>16.040000</td>\n",
              "      <td>3.123109</td>\n",
              "      <td>0.576595</td>\n",
              "      <td>45.410000</td>\n",
              "      <td>6.989334</td>\n",
              "      <td>3.181002</td>\n",
              "      <td>69.000000</td>\n",
              "      <td>0.661300</td>\n",
              "      <td>NaN</td>\n",
              "      <td>0.000000</td>\n",
              "      <td>NaN</td>\n",
              "      <td>1.000000</td>\n",
              "    </tr>\n",
              "    <tr>\n",
              "      <th>max</th>\n",
              "      <td>1990.200000</td>\n",
              "      <td>4.629025</td>\n",
              "      <td>0.701200</td>\n",
              "      <td>542.200000</td>\n",
              "      <td>8.355615</td>\n",
              "      <td>3.487973</td>\n",
              "      <td>267.000000</td>\n",
              "      <td>0.791000</td>\n",
              "      <td>NaN</td>\n",
              "      <td>1.000000</td>\n",
              "      <td>NaN</td>\n",
              "      <td>1.000000</td>\n",
              "    </tr>\n",
              "  </tbody>\n",
              "</table>\n",
              "</div>\n",
              "      <button class=\"colab-df-convert\" onclick=\"convertToInteractive('df-17111ff8-147c-4b6a-a194-0a638d94c19d')\"\n",
              "              title=\"Convert this dataframe to an interactive table.\"\n",
              "              style=\"display:none;\">\n",
              "        \n",
              "  <svg xmlns=\"http://www.w3.org/2000/svg\" height=\"24px\"viewBox=\"0 0 24 24\"\n",
              "       width=\"24px\">\n",
              "    <path d=\"M0 0h24v24H0V0z\" fill=\"none\"/>\n",
              "    <path d=\"M18.56 5.44l.94 2.06.94-2.06 2.06-.94-2.06-.94-.94-2.06-.94 2.06-2.06.94zm-11 1L8.5 8.5l.94-2.06 2.06-.94-2.06-.94L8.5 2.5l-.94 2.06-2.06.94zm10 10l.94 2.06.94-2.06 2.06-.94-2.06-.94-.94-2.06-.94 2.06-2.06.94z\"/><path d=\"M17.41 7.96l-1.37-1.37c-.4-.4-.92-.59-1.43-.59-.52 0-1.04.2-1.43.59L10.3 9.45l-7.72 7.72c-.78.78-.78 2.05 0 2.83L4 21.41c.39.39.9.59 1.41.59.51 0 1.02-.2 1.41-.59l7.78-7.78 2.81-2.81c.8-.78.8-2.07 0-2.86zM5.41 20L4 18.59l7.72-7.72 1.47 1.35L5.41 20z\"/>\n",
              "  </svg>\n",
              "      </button>\n",
              "      \n",
              "  <style>\n",
              "    .colab-df-container {\n",
              "      display:flex;\n",
              "      flex-wrap:wrap;\n",
              "      gap: 12px;\n",
              "    }\n",
              "\n",
              "    .colab-df-convert {\n",
              "      background-color: #E8F0FE;\n",
              "      border: none;\n",
              "      border-radius: 50%;\n",
              "      cursor: pointer;\n",
              "      display: none;\n",
              "      fill: #1967D2;\n",
              "      height: 32px;\n",
              "      padding: 0 0 0 0;\n",
              "      width: 32px;\n",
              "    }\n",
              "\n",
              "    .colab-df-convert:hover {\n",
              "      background-color: #E2EBFA;\n",
              "      box-shadow: 0px 1px 2px rgba(60, 64, 67, 0.3), 0px 1px 3px 1px rgba(60, 64, 67, 0.15);\n",
              "      fill: #174EA6;\n",
              "    }\n",
              "\n",
              "    [theme=dark] .colab-df-convert {\n",
              "      background-color: #3B4455;\n",
              "      fill: #D2E3FC;\n",
              "    }\n",
              "\n",
              "    [theme=dark] .colab-df-convert:hover {\n",
              "      background-color: #434B5C;\n",
              "      box-shadow: 0px 1px 3px 1px rgba(0, 0, 0, 0.15);\n",
              "      filter: drop-shadow(0px 1px 2px rgba(0, 0, 0, 0.3));\n",
              "      fill: #FFFFFF;\n",
              "    }\n",
              "  </style>\n",
              "\n",
              "      <script>\n",
              "        const buttonEl =\n",
              "          document.querySelector('#df-17111ff8-147c-4b6a-a194-0a638d94c19d button.colab-df-convert');\n",
              "        buttonEl.style.display =\n",
              "          google.colab.kernel.accessAllowed ? 'block' : 'none';\n",
              "\n",
              "        async function convertToInteractive(key) {\n",
              "          const element = document.querySelector('#df-17111ff8-147c-4b6a-a194-0a638d94c19d');\n",
              "          const dataTable =\n",
              "            await google.colab.kernel.invokeFunction('convertToInteractive',\n",
              "                                                     [key], {});\n",
              "          if (!dataTable) return;\n",
              "\n",
              "          const docLinkHtml = 'Like what you see? Visit the ' +\n",
              "            '<a target=\"_blank\" href=https://colab.research.google.com/notebooks/data_table.ipynb>data table notebook</a>'\n",
              "            + ' to learn more about interactive tables.';\n",
              "          element.innerHTML = '';\n",
              "          dataTable['output_type'] = 'display_data';\n",
              "          await google.colab.output.renderOutput(dataTable, element);\n",
              "          const docLink = document.createElement('div');\n",
              "          docLink.innerHTML = docLinkHtml;\n",
              "          element.appendChild(docLink);\n",
              "        }\n",
              "      </script>\n",
              "    </div>\n",
              "  </div>\n",
              "  "
            ]
          },
          "metadata": {}
        },
        {
          "output_type": "stream",
          "name": "stdout",
          "text": [
            "==================================================\n"
          ]
        }
      ],
      "source": [
        "perform_eda(df, \"Sharks\")"
      ]
    },
    {
      "cell_type": "markdown",
      "source": [
        "make plots function is used here to plot the barplot with label xaxis , title and i also printed the percentage on the bar plot. I have also plotted a pie plot  and that is used for the distribution of features to view as balanced or unbalanced so we handle the features accordingly.\n",
        "category 0 = shark wasnt present and category 1 = shark present\n",
        "noticed that 288 times there is no shark appearances and 168 instances where shark appeared at the beach so label feature is not really unbalanced where i also plotted this percentage through pie chart."
      ],
      "metadata": {
        "id": "9DS4nuGtuRCA"
      }
    },
    {
      "cell_type": "code",
      "execution_count": null,
      "metadata": {
        "id": "olNiVzPbQiN2"
      },
      "outputs": [],
      "source": [
        "def make_plots(feature, title=\"\"):\n",
        "    print(\"Total unique values are: \", len(feature.value_counts()), \"\\n\\n\")\n",
        "    print(\"Category\\tValue\\n\")\n",
        "    data = feature.value_counts()\n",
        "    print(data)\n",
        "    categories_num = len(data)\n",
        "    #plotting bar-plot and pie chart\n",
        "    sns.set_style('darkgrid')\n",
        "    plt.figure(figsize=(16,5))\n",
        "    plt.subplot(1,2,1)\n",
        "    plt.title(title, fontsize=16)\n",
        "    plt.xticks(rotation=45)\n",
        "    plot = sns.barplot(x=data.index, y=data.values, edgecolor=\"white\", palette=sns.palettes.color_palette(\"icefire\"))\n",
        "    total = len(feature)\n",
        "    for p in plot.patches:\n",
        "        percentage = '{:.1f}%'.format(100 * p.get_height()/total)\n",
        "        x = p.get_x() + p.get_width() / 2 - 0.08\n",
        "        y = p.get_y() + p.get_height()\n",
        "        plot.annotate(percentage, (x, y), size = 12)\n",
        "\n",
        "    plt.subplot(1,2,2)\n",
        "    labels = data.index\n",
        "    plt.pie(x=data, autopct=\"%.1f%%\", explode=[0.02]*categories_num, labels=labels, pctdistance=0.5)\n",
        "    plt.title(title, fontsize=16)\n",
        "    plt.show()"
      ]
    },
    {
      "cell_type": "code",
      "execution_count": null,
      "metadata": {
        "scrolled": true,
        "id": "Dq4kGCj7QiN2",
        "outputId": "d933bcf4-c4dd-4d71-8d6c-d503641b7b33",
        "colab": {
          "base_uri": "https://localhost:8080/",
          "height": 474
        }
      },
      "outputs": [
        {
          "output_type": "stream",
          "name": "stdout",
          "text": [
            "Total unique values are:  2 \n",
            "\n",
            "\n",
            "Category\tValue\n",
            "\n",
            "0    288\n",
            "1    168\n",
            "Name: shark, dtype: int64\n"
          ]
        },
        {
          "output_type": "display_data",
          "data": {
            "text/plain": [
              "<Figure size 1152x360 with 2 Axes>"
            ],
            "image/png": "[encoded data removed]"
          },
          "metadata": {}
        }
      ],
      "source": [
        "make_plots(df.shark)"
      ]
    },
    {
      "cell_type": "markdown",
      "metadata": {
        "id": "EblZZSpQQiN3"
      },
      "source": [
        "Some ambigous values are present in some of categorical features like in feature named \"time-of-day\" has one ambigous and repeating value \"morn7ing\". Similarly in \"common.surfboard.colour\" ambigous values is present.\n",
        "So, let's replace them with the original values."
      ]
    },
    {
      "cell_type": "code",
      "execution_count": null,
      "metadata": {
        "id": "ajAMu9EiQiN3"
      },
      "outputs": [],
      "source": [
        "df[\"common.surfboard.colour\"].replace(\"yyellow\", \"yellow\", inplace=True)\n",
        "df[\"time.of.day\"].replace(\"morni7ng\", \"morning\", inplace=True)"
      ]
    },
    {
      "cell_type": "code",
      "execution_count": null,
      "metadata": {
        "id": "VAVy0lvjQiN3"
      },
      "outputs": [],
      "source": [
        "def make_crosstab(x, target_name, df=df, top_cat=3):\n",
        "    # Code to get a random color map for graph\n",
        "    color_maps = ['Accent', 'Accent_r', 'Blues', 'Blues_r', 'BrBG', 'BrBG_r', 'BuGn', 'BuGn_r', 'BuPu', 'BuPu_r', 'CMRmap', 'CMRmap_r', 'Dark2', 'Dark2_r', 'GnBu',\n",
        "                  'GnBu_r', 'Greens', 'Greens_r', 'Greys', 'Greys_r', 'OrRd', 'OrRd_r', 'Oranges', 'Oranges_r', 'PRGn', 'PRGn_r', 'Paired',\n",
        "                  'Paired_r', 'Pastel1', 'Pastel1_r', 'Pastel2', 'Pastel2_r', 'PiYG', 'PiYG_r', 'PuBu', 'PuBuGn', 'PuBuGn_r', 'PuBu_r', 'PuOr',\n",
        "                  'PuOr_r', 'PuRd', 'PuRd_r', 'Purples', 'Purples_r', 'Set1', 'Set1_r', 'Set2', 'Set2_r', 'Set3', 'Set3_r', 'Spectral', 'Spectral_r',\n",
        "                  'Wistia', 'Wistia_r', 'YlGn', 'YlGnBu', 'YlGnBu_r', 'YlGn_r', 'YlOrBr', 'YlOrBr_r', 'YlOrRd', 'YlOrRd_r', 'afmhot', 'afmhot_r',\n",
        "                  'autumn', 'autumn_r', 'binary', 'binary_r', 'bone', 'bone_r', 'brg', 'brg_r', 'bwr', 'bwr_r', 'cividis', 'cividis_r', 'cool',\n",
        "                  'cool_r', 'coolwarm', 'coolwarm_r', 'copper', 'copper_r', 'crest', 'crest_r', 'cubehelix', 'cubehelix_r', 'flag', 'flag_r',\n",
        "                  'flare', 'flare_r', 'gist_earth', 'gist_earth_r', 'gist_gray', 'gist_gray_r', 'gist_heat', 'gist_heat_r', 'gist_ncar',\n",
        "                  'gist_ncar_r', 'gist_rainbow', 'gist_rainbow_r', 'gist_stern', 'gist_stern_r', 'gist_yarg', 'gist_yarg_r', 'gnuplot',\n",
        "                  'gnuplot2', 'gnuplot2_r', 'gnuplot_r', 'gray', 'gray_r', 'hot', 'hot_r', 'hsv', 'hsv_r', 'icefire', 'icefire_r', 'inferno',\n",
        "                  'inferno_r', 'jet', 'jet_r', 'magma', 'magma_r', 'mako', 'mako_r', 'nipy_spectral', 'nipy_spectral_r', 'ocean', 'ocean_r',\n",
        "                  'pink', 'pink_r', 'plasma', 'plasma_r', 'prism', 'prism_r', 'rainbow', 'rainbow_r', 'rocket', 'rocket_r', 'seismic',\n",
        "                  'seismic_r', 'spring', 'spring_r', 'summer', 'summer_r', 'tab10', 'tab10_r', 'tab20', 'tab20_r', 'tab20b', 'tab20b_r',\n",
        "                  'tab20c', 'tab20c_r', 'terrain', 'terrain_r', 'turbo', 'twilight', 'twilight_r', 'twilight_shifted',\n",
        "                  'twilight_shifted_r', 'viridis', 'viridis_r', 'vlag', 'vlag_r', 'winter', 'winter_r']\n",
        "\n",
        "    # Selecting Color map\n",
        "    rand = np.random.randint(1, len(color_maps))\n",
        "    cmap = color_maps[rand]\n",
        "\n",
        "    # Making crosstab and then plotting it in form of bar chart\n",
        "    pd.crosstab(df[target_name], df[x]).plot(kind=\"bar\", cmap=cmap, stacked=True, figsize=(14, 5))\n",
        "    plt.show()\n",
        "\n",
        "    # Calculating the ratio of appearance for each unique value of feature\n",
        "    data = {}\n",
        "    for i in df[x].unique():\n",
        "        nomer = df[((df[target_name] == 1) & (df[x] == i))]\n",
        "        denom = df[(df[x] == i)]\n",
        "        try:\n",
        "            rate = 100*(len(nomer)/len(denom))\n",
        "        except:\n",
        "            rate = 0\n",
        "        data[i] = rate\n",
        "\n",
        "    # Sorting values according to ratio\n",
        "    data = dict(sorted(data.items(), reverse=True, key=lambda item: item[1]))\n",
        "\n",
        "    # Printing top 3 categories with their ratio\n",
        "    for i, j in data.items():\n",
        "        if top_cat > 0:\n",
        "            print(f\"Appearance rate for category {str(i).upper()} in variable {str(x).upper()} is {j}\")\n",
        "            top_cat -= 1\n",
        "        else:\n",
        "            break"
      ]
    },
    {
      "cell_type": "markdown",
      "source": [
        "so the below indicates that the most common surfboard color is red when sharks are not appeared and after that the second most common surfboard color is orange when shark's not appeared.\n",
        "And the same trend but this time when shark appeared on the beach so most common color is again is red and second most common is orange.\n",
        "\n",
        "I find out an interesting information about sharks through some research and that they may be color blind so i do not assume sharks are attracted to surfers with any specific color surfboards or if affects the number of attacks. moreover, what if there is a surfshop nearby that tends to have more red and orange boards than yellow or there is none sold there so i think this Feature is not too meaningful in my opinion but the amount of surfers there can be."
      ],
      "metadata": {
        "id": "ixDjAt2XPkJN"
      }
    },
    {
      "cell_type": "code",
      "execution_count": null,
      "metadata": {
        "id": "jRkvjghPQiN4",
        "outputId": "4a07b2b1-4ac9-48ee-f7a6-0652af711af0",
        "colab": {
          "base_uri": "https://localhost:8080/",
          "height": 389
        }
      },
      "outputs": [
        {
          "output_type": "display_data",
          "data": {
            "text/plain": [
              "<Figure size 1008x360 with 1 Axes>"
            ],
            "image/png": "[encoded data removed]"
          },
          "metadata": {}
        },
        {
          "output_type": "stream",
          "name": "stdout",
          "text": [
            "Appearance rate for category ORANGE in variable COMMON.SURFBOARD.COLOUR is 37.67123287671233\n",
            "Appearance rate for category RED in variable COMMON.SURFBOARD.COLOUR is 37.03703703703704\n",
            "Appearance rate for category YELLOW in variable COMMON.SURFBOARD.COLOUR is 35.1063829787234\n"
          ]
        }
      ],
      "source": [
        "make_crosstab(\"common.surfboard.colour\", \"shark\")"
      ]
    },
    {
      "cell_type": "markdown",
      "source": [
        "category 0 = weather is overcast and  category 1 means the weather is sunny so we clearly see that the most of the time the weather is overcast, all times when weather is overcast and shark not appeared on beach and very few times shark appeared when weather is sunny so its helps to decide shark love to come out in sunny and overcast."
      ],
      "metadata": {
        "id": "xwi5DajTyIT3"
      }
    },
    {
      "cell_type": "code",
      "execution_count": null,
      "metadata": {
        "id": "m1cUZgujQiN4",
        "outputId": "89fd3795-9035-49ca-bcb2-7d264c7ed105",
        "colab": {
          "base_uri": "https://localhost:8080/",
          "height": 370
        }
      },
      "outputs": [
        {
          "output_type": "display_data",
          "data": {
            "text/plain": [
              "<Figure size 1008x360 with 1 Axes>"
            ],
            "image/png": "[encoded data removed]"
          },
          "metadata": {}
        },
        {
          "output_type": "stream",
          "name": "stdout",
          "text": [
            "Appearance rate for category 1 in variable OVERCAST.WEATHER is 100.0\n",
            "Appearance rate for category 0 in variable OVERCAST.WEATHER is 36.56387665198238\n"
          ]
        }
      ],
      "source": [
        "make_crosstab(\"overcast.weather\", \"shark\")"
      ]
    },
    {
      "cell_type": "markdown",
      "source": [
        "Below distribution tells us the time of the day where we might expect shark appearances and also when it not likely to appear in the night and 41% prediction of an attack are in the morning time and where its around 30% in night and afternoon so i want to conclude that overall the sharks attack during the morning."
      ],
      "metadata": {
        "id": "KtJOeSguzVQN"
      }
    },
    {
      "cell_type": "code",
      "execution_count": null,
      "metadata": {
        "id": "kLEOt4RsQiN5",
        "outputId": "7c6875a0-80ae-4e69-b6b1-3c658cffcfa1",
        "colab": {
          "base_uri": "https://localhost:8080/",
          "height": 389
        }
      },
      "outputs": [
        {
          "output_type": "display_data",
          "data": {
            "text/plain": [
              "<Figure size 1008x360 with 1 Axes>"
            ],
            "image/png": "[encoded data removed]"
          },
          "metadata": {}
        },
        {
          "output_type": "stream",
          "name": "stdout",
          "text": [
            "Appearance rate for category MORNING in variable TIME.OF.DAY is 41.61073825503356\n",
            "Appearance rate for category AFTERNOON in variable TIME.OF.DAY is 36.2962962962963\n",
            "Appearance rate for category NIGHT in variable TIME.OF.DAY is 33.13953488372093\n"
          ]
        }
      ],
      "source": [
        "make_crosstab(\"time.of.day\", \"shark\")"
      ]
    },
    {
      "cell_type": "markdown",
      "source": [
        "Below function helps us explore the features by finding the mean, median, variance(spread) skewness ( if the distribution is right skewed or left skewed) and also the minimum and maximum values of the features.\n",
        "\n",
        "So here we can identify if our distribution is normal or not.\n",
        "If the spread (range) is large or small and find out if our dataset is balanced or not balanced.\n",
        "i checked the correlation  of any features with target features and ratio of shark appearance dependent on the given features so this helps us to know the important and unrelevant features of the dataset so this helps us in feature selection because we dont want to confuse our model by putting irrelevant columns in our Dataset."
      ],
      "metadata": {
        "id": "9oDlobcK0Rbp"
      }
    },
    {
      "cell_type": "code",
      "execution_count": null,
      "metadata": {
        "id": "0hxgI3uoQiN5"
      },
      "outputs": [],
      "source": [
        "# Function to explore continous features\n",
        "def explore_feature(feature_name, target_name=\"Exited\", target_value=1):\n",
        "    # Printing details\n",
        "    print(f\"Exploring {str(feature_name).upper()}........\")\n",
        "    print(f\"Mean of {feature_name}     : {df[feature_name].mean()}\")\n",
        "    print(f\"Median of {feature_name}   : {df[feature_name].median()}\")\n",
        "    print(f\"Variance of {feature_name} : {df[feature_name].var()}\")\n",
        "    print(f\"Skewness of {feature_name} : {df[feature_name].skew()}\")\n",
        "    print(f\"Maximum of {feature_name}  : {df[feature_name].max()}\")\n",
        "    print(f\"Minimum of {feature_name}  : {df[feature_name].min()}\")\n",
        "    temp = df[[feature_name, target_name]]\n",
        "#     temp[target_name] = temp[target_name].map({\"Negative\": 0, 1: 1})\n",
        "    corr = temp.corr().iloc[0, 1]\n",
        "    print(f\"Correlation with the target feature : {corr}\")\n",
        "    temp = df[df[feature_name] > df[feature_name].mean()]\n",
        "    ratio = len(temp[temp[target_name] == 1])/len(temp)\n",
        "    print(f\"Ratio of Shark Appearance if {str(feature_name).upper()} is more than average value : {ratio}\")\n",
        "    temp = df[df[feature_name] < df[feature_name].mean()]\n",
        "    ratio = len(temp[temp[target_name] == 1])/len(temp)\n",
        "    print(f\"Ratio of Shark Appearance if {str(feature_name).upper()} is less than average value : {ratio}\")"
      ]
    },
    {
      "cell_type": "markdown",
      "source": [
        "Here we explore the features one by at a time to find its coorelation with the target feature"
      ],
      "metadata": {
        "id": "rHNTjjvpvSIv"
      }
    },
    {
      "cell_type": "markdown",
      "source": [
        "\n",
        "We see here that the mean of murkiness.level is 22 and its maximum value is 1990 so its mean features is left skewed and the variance(measure of spread) is very large and the correlation with the target feature is negative and moderately correlated and the ratio of shark appearance based on this feature is more then average is 78%.\n",
        "\n"
      ],
      "metadata": {
        "id": "XJUi_HIS1r2D"
      }
    },
    {
      "cell_type": "code",
      "execution_count": null,
      "metadata": {
        "id": "Sw6wQq1cQiN5",
        "outputId": "e7321d11-7bb6-4e5a-fec5-cad687036888",
        "colab": {
          "base_uri": "https://localhost:8080/"
        }
      },
      "outputs": [
        {
          "output_type": "stream",
          "name": "stdout",
          "text": [
            "Exploring MURKINESS.LEVEL........\n",
            "Mean of murkiness.level     : 22.857655701754386\n",
            "Median of murkiness.level   : 13.274999999999999\n",
            "Variance of murkiness.level : 17100.91800201966\n",
            "Skewness of murkiness.level : 15.032321281702947\n",
            "Maximum of murkiness.level  : 1990.2\n",
            "Minimum of murkiness.level  : 6.981\n",
            "Correlation with the target feature : -0.03189395594225865\n",
            "Ratio of Shark Appearance if MURKINESS.LEVEL is more than average value : 0.7857142857142857\n",
            "Ratio of Shark Appearance if MURKINESS.LEVEL is less than average value : 0.3552036199095023\n"
          ]
        }
      ],
      "source": [
        "explore_feature(\"murkiness.level\", \"shark\")"
      ]
    },
    {
      "cell_type": "markdown",
      "source": [
        "So mean of avg.dolphins.seen.per.day is 3 and and maximum value is 4.6 so its mean features is not highly skewed and variance(measure of spread) is very low and correlation is positive and moderately correlated and the ratio of shark appearance based on this feature is more then average and is exactly on 80% so it deem this column or feature as an important one.\n",
        "\n",
        "More dolphins in the vicinity attracts more sharks ?"
      ],
      "metadata": {
        "id": "jx2a09C92ttq"
      }
    },
    {
      "cell_type": "code",
      "execution_count": null,
      "metadata": {
        "id": "rczVcxShQiN5",
        "outputId": "592ee15d-abda-42d0-baff-32df16537106",
        "colab": {
          "base_uri": "https://localhost:8080/"
        }
      },
      "outputs": [
        {
          "output_type": "stream",
          "name": "stdout",
          "text": [
            "Exploring AVG.DOLPHINS.SEEN.PER.DAY........\n",
            "Mean of avg.dolphins.seen.per.day     : 3.010865082753846\n",
            "Median of avg.dolphins.seen.per.day   : 2.888364376\n",
            "Variance of avg.dolphins.seen.per.day : 0.10078538018803734\n",
            "Skewness of avg.dolphins.seen.per.day : 2.059809387852735\n",
            "Maximum of avg.dolphins.seen.per.day  : 4.629024533\n",
            "Minimum of avg.dolphins.seen.per.day  : 2.718281828\n",
            "Correlation with the target feature : 0.5645773978808416\n",
            "Ratio of Shark Appearance if AVG.DOLPHINS.SEEN.PER.DAY is more than average value : 0.8012048192771084\n",
            "Ratio of Shark Appearance if AVG.DOLPHINS.SEEN.PER.DAY is less than average value : 0.12110726643598616\n"
          ]
        }
      ],
      "source": [
        "explore_feature(\"avg.dolphins.seen.per.day\", \"shark\")"
      ]
    },
    {
      "cell_type": "markdown",
      "source": [
        "The mean of previous.week.fishing is 0.54 and minimum value is 0.5  and and maximum value is 0.7 so its mean features is not skewed and variance(measure of spread) is very very low and correlation is positive and moderately correlated and the ratio of shark appearence based on this feature that is more then average is 80% so we can maybe consider this important.\n",
        "\n",
        "More fisherman around perhaps leads to more sharks swimming around due to fish bait ?"
      ],
      "metadata": {
        "id": "Oku2gmu43Gba"
      }
    },
    {
      "cell_type": "code",
      "execution_count": null,
      "metadata": {
        "id": "igiu29EIQiN6",
        "outputId": "a5711c56-7019-47e9-89ec-1f31c0d27ac6",
        "colab": {
          "base_uri": "https://localhost:8080/"
        }
      },
      "outputs": [
        {
          "output_type": "stream",
          "name": "stdout",
          "text": [
            "Exploring PREVIOUS.WEEK.FISHING........\n",
            "Mean of previous.week.fishing     : 0.5494803274725275\n",
            "Median of previous.week.fishing   : 0.53334\n",
            "Variance of previous.week.fishing : 0.0016343915441017767\n",
            "Skewness of previous.week.fishing : 1.1771761711705557\n",
            "Maximum of previous.week.fishing  : 0.7012\n",
            "Minimum of previous.week.fishing  : 0.5\n",
            "Correlation with the target feature : 0.6840499142664686\n",
            "Ratio of Shark Appearance if PREVIOUS.WEEK.FISHING is more than average value : 0.7777777777777778\n",
            "Ratio of Shark Appearance if PREVIOUS.WEEK.FISHING is less than average value : 0.09818181818181818\n"
          ]
        }
      ],
      "source": [
        "explore_feature(\"previous.week.fishing\", \"shark\")"
      ]
    },
    {
      "cell_type": "markdown",
      "source": [
        "Here below mean of diversity.of.prey is 24 and minimum value is 6 and the maximum value is 542 so its mean features is right skewed  and variance(measure of spread) is very large and correlation is positive and moderately correlated and the ratio of shark appearence based on this feature that is more then average and is around 86% ... so we can consider diversity of prey or alot of fishes in the area as a good indication to having sharks over which might lead to attacks on humans mistakenly ?"
      ],
      "metadata": {
        "id": "hLsSHEmt3cDw"
      }
    },
    {
      "cell_type": "code",
      "execution_count": null,
      "metadata": {
        "id": "jQrQJyUJQiN6",
        "outputId": "9e70c85e-0313-4cc2-bd6d-24143e394a6a",
        "colab": {
          "base_uri": "https://localhost:8080/"
        }
      },
      "outputs": [
        {
          "output_type": "stream",
          "name": "stdout",
          "text": [
            "Exploring DIVERSITY.OF.PREY........\n",
            "Mean of diversity.of.prey     : 41.68176703296704\n",
            "Median of diversity.of.prey   : 24.6\n",
            "Variance of diversity.of.prey : 2406.802495994065\n",
            "Skewness of diversity.of.prey : 5.311924343573265\n",
            "Maximum of diversity.of.prey  : 542.2\n",
            "Minimum of diversity.of.prey  : 6.802\n",
            "Correlation with the target feature : 0.5010151507813938\n",
            "Ratio of Shark Appearance if DIVERSITY.OF.PREY is more than average value : 0.8671875\n",
            "Ratio of Shark Appearance if DIVERSITY.OF.PREY is less than average value : 0.1712538226299694\n"
          ]
        }
      ],
      "source": [
        "explore_feature(\"diversity.of.prey\", \"shark\")"
      ]
    },
    {
      "cell_type": "markdown",
      "source": [
        "The mean of seals.seen is 6.62 and minimum value is 5.22 and maximum value is 8.35 so its mean features is not skewed  and variance(measure of spread) is very small and correlation is positive and highly correlated and the ratio of shark appearence based on this feature that is more then average is 79%. So we for sure know if there are seals seen we are expecting sharks around as they are predators often lurking in deep water looking for prey and might end up attacking humans as a paddling surfer looks a lot like a seal.\n"
      ],
      "metadata": {
        "id": "sEEIJRFs-xQ9"
      }
    },
    {
      "cell_type": "code",
      "execution_count": null,
      "metadata": {
        "id": "bvHce6wRQiN6",
        "outputId": "ef2bb5e9-53d2-46a3-bfc5-d1016a6c447f",
        "colab": {
          "base_uri": "https://localhost:8080/"
        }
      },
      "outputs": [
        {
          "output_type": "stream",
          "name": "stdout",
          "text": [
            "Exploring SEALS.SEEN........\n",
            "Mean of seals.seen     : 6.6231854228706135\n",
            "Median of seals.seen   : 6.5165616244999995\n",
            "Variance of seals.seen : 0.3180327613694653\n",
            "Skewness of seals.seen : 0.5245057245616094\n",
            "Maximum of seals.seen  : 8.355614996\n",
            "Minimum of seals.seen  : 5.221436322\n",
            "Correlation with the target feature : 0.7208052937296499\n",
            "Ratio of Shark Appearance if SEALS.SEEN is more than average value : 0.7903225806451613\n",
            "Ratio of Shark Appearance if SEALS.SEEN is less than average value : 0.07777777777777778\n"
          ]
        }
      ],
      "source": [
        "explore_feature(\"seals.seen\", \"shark\")"
      ]
    },
    {
      "cell_type": "markdown",
      "source": [
        "I do not consider the water temperature to be an important feature."
      ],
      "metadata": {
        "id": "x-IZA-Oe_IMM"
      }
    },
    {
      "cell_type": "code",
      "execution_count": null,
      "metadata": {
        "id": "vmV3Kf_EQiN7",
        "outputId": "dc43eb4e-5c25-4785-95c3-9186a0536b98",
        "colab": {
          "base_uri": "https://localhost:8080/"
        }
      },
      "outputs": [
        {
          "output_type": "stream",
          "name": "stdout",
          "text": [
            "Exploring WATER.TEMP........\n",
            "Mean of water.temp     : 3.1328167923076924\n",
            "Median of water.temp   : 3.127380639\n",
            "Variance of water.temp : 0.006615529024535173\n",
            "Skewness of water.temp : 0.5986628245367196\n",
            "Maximum of water.temp  : 3.487972931\n",
            "Minimum of water.temp  : 2.926372935\n",
            "Correlation with the target feature : 0.330338933163051\n",
            "Ratio of Shark Appearance if WATER.TEMP is more than average value : 0.5305164319248826\n",
            "Ratio of Shark Appearance if WATER.TEMP is less than average value : 0.22727272727272727\n"
          ]
        }
      ],
      "source": [
        "explore_feature(\"water.temp\", \"shark\")"
      ]
    },
    {
      "cell_type": "markdown",
      "source": [
        "The exploration below shows that the coorelation is not strong. i do not consider this as an important feature as sharks do not consider humans as targets but studies have shown that the sharks mistake humans for their natural prey based on visual similarities moreover it has nothing to do with why we have sharks at the beach."
      ],
      "metadata": {
        "id": "ZqpCrUZQ_m-Z"
      }
    },
    {
      "cell_type": "code",
      "execution_count": null,
      "metadata": {
        "id": "h2BxNyX0QiN7",
        "outputId": "3fbb9a23-3709-4634-de2a-9039b2cdb5f2",
        "colab": {
          "base_uri": "https://localhost:8080/"
        }
      },
      "outputs": [
        {
          "output_type": "stream",
          "name": "stdout",
          "text": [
            "Exploring PEOPLE.PREVIOUS.DAY........\n",
            "Mean of people.previous.day     : 61.24944812362031\n",
            "Median of people.previous.day   : 53.0\n",
            "Variance of people.previous.day : 739.3956025708649\n",
            "Skewness of people.previous.day : 2.947816369043984\n",
            "Maximum of people.previous.day  : 267.0\n",
            "Minimum of people.previous.day  : 34.0\n",
            "Correlation with the target feature : 0.43596069311053304\n",
            "Ratio of Shark Appearance if PEOPLE.PREVIOUS.DAY is more than average value : 0.7218543046357616\n",
            "Ratio of Shark Appearance if PEOPLE.PREVIOUS.DAY is less than average value : 0.19536423841059603\n"
          ]
        }
      ],
      "source": [
        "explore_feature(\"people.previous.day\", \"shark\")"
      ]
    },
    {
      "cell_type": "markdown",
      "metadata": {
        "id": "e2NF_qQUQiN7"
      },
      "source": [
        "# Data Preparation"
      ]
    },
    {
      "cell_type": "markdown",
      "source": [
        "\n",
        "\n",
        "Here below i have tried looking into the unique, missing values and its percentage as the quantity of missing values will determine the decision to disregard them or fill these missing values. So if we are missing a few we can allow it however if its more than half or this trend goes for majority of the dataset then we have to fill in the blank values using various data gathering techniques.\n",
        "\n",
        "They are barely any so we drop the missing values and now we have a clean dataset to carry over to the next step."
      ],
      "metadata": {
        "id": "bCB6UvBcARLf"
      }
    },
    {
      "cell_type": "code",
      "execution_count": null,
      "metadata": {
        "id": "h2eqTS16QiN7",
        "outputId": "124e31a7-ae8b-42c9-8de4-be5526bd011c",
        "colab": {
          "base_uri": "https://localhost:8080/",
          "height": 238
        }
      },
      "outputs": [
        {
          "output_type": "execute_result",
          "data": {
            "text/plain": [
              "                           Unique_values  Missing values  \\\n",
              "Feature                                                    \n",
              "people.previous.day                   87               3   \n",
              "avg.dolphins.seen.per.day            432               1   \n",
              "previous.week.fishing                434               1   \n",
              "diversity.of.prey                    426               1   \n",
              "water.temp                           345               1   \n",
              "\n",
              "                           Percentage of Missing Values Data Type  \n",
              "Feature                                                            \n",
              "people.previous.day                            0.657895   float64  \n",
              "avg.dolphins.seen.per.day                      0.219298   float64  \n",
              "previous.week.fishing                          0.219298   float64  \n",
              "diversity.of.prey                              0.219298   float64  \n",
              "water.temp                                     0.219298   float64  "
            ],
            "text/html": [
              "\n",
              "  <div id=\"df-3bd68b7e-02de-4bb7-a04e-b0f79333c3fa\">\n",
              "    <div class=\"colab-df-container\">\n",
              "      <div>\n",
              "<style scoped>\n",
              "    .dataframe tbody tr th:only-of-type {\n",
              "        vertical-align: middle;\n",
              "    }\n",
              "\n",
              "    .dataframe tbody tr th {\n",
              "        vertical-align: top;\n",
              "    }\n",
              "\n",
              "    .dataframe thead th {\n",
              "        text-align: right;\n",
              "    }\n",
              "</style>\n",
              "<table border=\"1\" class=\"dataframe\">\n",
              "  <thead>\n",
              "    <tr style=\"text-align: right;\">\n",
              "      <th></th>\n",
              "      <th>Unique_values</th>\n",
              "      <th>Missing values</th>\n",
              "      <th>Percentage of Missing Values</th>\n",
              "      <th>Data Type</th>\n",
              "    </tr>\n",
              "    <tr>\n",
              "      <th>Feature</th>\n",
              "      <th></th>\n",
              "      <th></th>\n",
              "      <th></th>\n",
              "      <th></th>\n",
              "    </tr>\n",
              "  </thead>\n",
              "  <tbody>\n",
              "    <tr>\n",
              "      <th>people.previous.day</th>\n",
              "      <td>87</td>\n",
              "      <td>3</td>\n",
              "      <td>0.657895</td>\n",
              "      <td>float64</td>\n",
              "    </tr>\n",
              "    <tr>\n",
              "      <th>avg.dolphins.seen.per.day</th>\n",
              "      <td>432</td>\n",
              "      <td>1</td>\n",
              "      <td>0.219298</td>\n",
              "      <td>float64</td>\n",
              "    </tr>\n",
              "    <tr>\n",
              "      <th>previous.week.fishing</th>\n",
              "      <td>434</td>\n",
              "      <td>1</td>\n",
              "      <td>0.219298</td>\n",
              "      <td>float64</td>\n",
              "    </tr>\n",
              "    <tr>\n",
              "      <th>diversity.of.prey</th>\n",
              "      <td>426</td>\n",
              "      <td>1</td>\n",
              "      <td>0.219298</td>\n",
              "      <td>float64</td>\n",
              "    </tr>\n",
              "    <tr>\n",
              "      <th>water.temp</th>\n",
              "      <td>345</td>\n",
              "      <td>1</td>\n",
              "      <td>0.219298</td>\n",
              "      <td>float64</td>\n",
              "    </tr>\n",
              "  </tbody>\n",
              "</table>\n",
              "</div>\n",
              "      <button class=\"colab-df-convert\" onclick=\"convertToInteractive('df-3bd68b7e-02de-4bb7-a04e-b0f79333c3fa')\"\n",
              "              title=\"Convert this dataframe to an interactive table.\"\n",
              "              style=\"display:none;\">\n",
              "        \n",
              "  <svg xmlns=\"http://www.w3.org/2000/svg\" height=\"24px\"viewBox=\"0 0 24 24\"\n",
              "       width=\"24px\">\n",
              "    <path d=\"M0 0h24v24H0V0z\" fill=\"none\"/>\n",
              "    <path d=\"M18.56 5.44l.94 2.06.94-2.06 2.06-.94-2.06-.94-.94-2.06-.94 2.06-2.06.94zm-11 1L8.5 8.5l.94-2.06 2.06-.94-2.06-.94L8.5 2.5l-.94 2.06-2.06.94zm10 10l.94 2.06.94-2.06 2.06-.94-2.06-.94-.94-2.06-.94 2.06-2.06.94z\"/><path d=\"M17.41 7.96l-1.37-1.37c-.4-.4-.92-.59-1.43-.59-.52 0-1.04.2-1.43.59L10.3 9.45l-7.72 7.72c-.78.78-.78 2.05 0 2.83L4 21.41c.39.39.9.59 1.41.59.51 0 1.02-.2 1.41-.59l7.78-7.78 2.81-2.81c.8-.78.8-2.07 0-2.86zM5.41 20L4 18.59l7.72-7.72 1.47 1.35L5.41 20z\"/>\n",
              "  </svg>\n",
              "      </button>\n",
              "      \n",
              "  <style>\n",
              "    .colab-df-container {\n",
              "      display:flex;\n",
              "      flex-wrap:wrap;\n",
              "      gap: 12px;\n",
              "    }\n",
              "\n",
              "    .colab-df-convert {\n",
              "      background-color: #E8F0FE;\n",
              "      border: none;\n",
              "      border-radius: 50%;\n",
              "      cursor: pointer;\n",
              "      display: none;\n",
              "      fill: #1967D2;\n",
              "      height: 32px;\n",
              "      padding: 0 0 0 0;\n",
              "      width: 32px;\n",
              "    }\n",
              "\n",
              "    .colab-df-convert:hover {\n",
              "      background-color: #E2EBFA;\n",
              "      box-shadow: 0px 1px 2px rgba(60, 64, 67, 0.3), 0px 1px 3px 1px rgba(60, 64, 67, 0.15);\n",
              "      fill: #174EA6;\n",
              "    }\n",
              "\n",
              "    [theme=dark] .colab-df-convert {\n",
              "      background-color: #3B4455;\n",
              "      fill: #D2E3FC;\n",
              "    }\n",
              "\n",
              "    [theme=dark] .colab-df-convert:hover {\n",
              "      background-color: #434B5C;\n",
              "      box-shadow: 0px 1px 3px 1px rgba(0, 0, 0, 0.15);\n",
              "      filter: drop-shadow(0px 1px 2px rgba(0, 0, 0, 0.3));\n",
              "      fill: #FFFFFF;\n",
              "    }\n",
              "  </style>\n",
              "\n",
              "      <script>\n",
              "        const buttonEl =\n",
              "          document.querySelector('#df-3bd68b7e-02de-4bb7-a04e-b0f79333c3fa button.colab-df-convert');\n",
              "        buttonEl.style.display =\n",
              "          google.colab.kernel.accessAllowed ? 'block' : 'none';\n",
              "\n",
              "        async function convertToInteractive(key) {\n",
              "          const element = document.querySelector('#df-3bd68b7e-02de-4bb7-a04e-b0f79333c3fa');\n",
              "          const dataTable =\n",
              "            await google.colab.kernel.invokeFunction('convertToInteractive',\n",
              "                                                     [key], {});\n",
              "          if (!dataTable) return;\n",
              "\n",
              "          const docLinkHtml = 'Like what you see? Visit the ' +\n",
              "            '<a target=\"_blank\" href=https://colab.research.google.com/notebooks/data_table.ipynb>data table notebook</a>'\n",
              "            + ' to learn more about interactive tables.';\n",
              "          element.innerHTML = '';\n",
              "          dataTable['output_type'] = 'display_data';\n",
              "          await google.colab.output.renderOutput(dataTable, element);\n",
              "          const docLink = document.createElement('div');\n",
              "          docLink.innerHTML = docLinkHtml;\n",
              "          element.appendChild(docLink);\n",
              "        }\n",
              "      </script>\n",
              "    </div>\n",
              "  </div>\n",
              "  "
            ]
          },
          "metadata": {},
          "execution_count": 20
        }
      ],
      "source": [
        "# Checking Null values\n",
        "# lets try to check the percentage of missing values,unique values,percentage of one catagory values and type against each column.\n",
        "def statistics(df):\n",
        "    stats = []\n",
        "    # Iterating all columns\n",
        "    for col in df.columns:\n",
        "        # Calculating different details and storing it into list\n",
        "        stats.append((col, df[col].nunique(), df[col].isnull().sum(), df[col].isnull().sum() * 100 / df.shape[0], df[col].dtype))\n",
        "\n",
        "    # Converting list into table\n",
        "    stats_df = pd.DataFrame(stats, columns=['Feature', 'Unique_values', 'Missing values', 'Percentage of Missing Values', 'Data Type'])\n",
        "    # Setting column name as index\n",
        "    stats_df.set_index('Feature', drop=True, inplace=True)\n",
        "    # Droping features in which no NAN  is present\n",
        "    stats_df.drop(stats_df[stats_df['Missing values'] == 0].index, axis=0, inplace=True)\n",
        "    # Sorting table according to number of NAN\n",
        "    stats_df.sort_values('Percentage of Missing Values', ascending=False, inplace=True)\n",
        "    return stats_df\n",
        "\n",
        "statistics(df)"
      ]
    },
    {
      "cell_type": "code",
      "execution_count": null,
      "metadata": {
        "id": "4g4u9hapQiN7"
      },
      "outputs": [],
      "source": [
        "# Dropping NAN\n",
        "df.dropna(inplace=True)"
      ]
    },
    {
      "cell_type": "code",
      "execution_count": null,
      "metadata": {
        "id": "SX-NXmKDQiN8",
        "outputId": "158fb6ce-c7f2-4725-c2fc-549f40efbc44",
        "colab": {
          "base_uri": "https://localhost:8080/",
          "height": 81
        }
      },
      "outputs": [
        {
          "output_type": "execute_result",
          "data": {
            "text/plain": [
              "Empty DataFrame\n",
              "Columns: [murkiness.level, avg.dolphins.seen.per.day, previous.week.fishing, diversity.of.prey, seals.seen, water.temp, people.previous.day, seagull.density, common.surfboard.colour, overcast.weather, time.of.day, shark]\n",
              "Index: []"
            ],
            "text/html": [
              "\n",
              "  <div id=\"df-24bfaa8c-78ac-4feb-a134-c18693b32be9\">\n",
              "    <div class=\"colab-df-container\">\n",
              "      <div>\n",
              "<style scoped>\n",
              "    .dataframe tbody tr th:only-of-type {\n",
              "        vertical-align: middle;\n",
              "    }\n",
              "\n",
              "    .dataframe tbody tr th {\n",
              "        vertical-align: top;\n",
              "    }\n",
              "\n",
              "    .dataframe thead th {\n",
              "        text-align: right;\n",
              "    }\n",
              "</style>\n",
              "<table border=\"1\" class=\"dataframe\">\n",
              "  <thead>\n",
              "    <tr style=\"text-align: right;\">\n",
              "      <th></th>\n",
              "      <th>murkiness.level</th>\n",
              "      <th>avg.dolphins.seen.per.day</th>\n",
              "      <th>previous.week.fishing</th>\n",
              "      <th>diversity.of.prey</th>\n",
              "      <th>seals.seen</th>\n",
              "      <th>water.temp</th>\n",
              "      <th>people.previous.day</th>\n",
              "      <th>seagull.density</th>\n",
              "      <th>common.surfboard.colour</th>\n",
              "      <th>overcast.weather</th>\n",
              "      <th>time.of.day</th>\n",
              "      <th>shark</th>\n",
              "    </tr>\n",
              "    <tr>\n",
              "      <th>ID</th>\n",
              "      <th></th>\n",
              "      <th></th>\n",
              "      <th></th>\n",
              "      <th></th>\n",
              "      <th></th>\n",
              "      <th></th>\n",
              "      <th></th>\n",
              "      <th></th>\n",
              "      <th></th>\n",
              "      <th></th>\n",
              "      <th></th>\n",
              "      <th></th>\n",
              "    </tr>\n",
              "  </thead>\n",
              "  <tbody>\n",
              "  </tbody>\n",
              "</table>\n",
              "</div>\n",
              "      <button class=\"colab-df-convert\" onclick=\"convertToInteractive('df-24bfaa8c-78ac-4feb-a134-c18693b32be9')\"\n",
              "              title=\"Convert this dataframe to an interactive table.\"\n",
              "              style=\"display:none;\">\n",
              "        \n",
              "  <svg xmlns=\"http://www.w3.org/2000/svg\" height=\"24px\"viewBox=\"0 0 24 24\"\n",
              "       width=\"24px\">\n",
              "    <path d=\"M0 0h24v24H0V0z\" fill=\"none\"/>\n",
              "    <path d=\"M18.56 5.44l.94 2.06.94-2.06 2.06-.94-2.06-.94-.94-2.06-.94 2.06-2.06.94zm-11 1L8.5 8.5l.94-2.06 2.06-.94-2.06-.94L8.5 2.5l-.94 2.06-2.06.94zm10 10l.94 2.06.94-2.06 2.06-.94-2.06-.94-.94-2.06-.94 2.06-2.06.94z\"/><path d=\"M17.41 7.96l-1.37-1.37c-.4-.4-.92-.59-1.43-.59-.52 0-1.04.2-1.43.59L10.3 9.45l-7.72 7.72c-.78.78-.78 2.05 0 2.83L4 21.41c.39.39.9.59 1.41.59.51 0 1.02-.2 1.41-.59l7.78-7.78 2.81-2.81c.8-.78.8-2.07 0-2.86zM5.41 20L4 18.59l7.72-7.72 1.47 1.35L5.41 20z\"/>\n",
              "  </svg>\n",
              "      </button>\n",
              "      \n",
              "  <style>\n",
              "    .colab-df-container {\n",
              "      display:flex;\n",
              "      flex-wrap:wrap;\n",
              "      gap: 12px;\n",
              "    }\n",
              "\n",
              "    .colab-df-convert {\n",
              "      background-color: #E8F0FE;\n",
              "      border: none;\n",
              "      border-radius: 50%;\n",
              "      cursor: pointer;\n",
              "      display: none;\n",
              "      fill: #1967D2;\n",
              "      height: 32px;\n",
              "      padding: 0 0 0 0;\n",
              "      width: 32px;\n",
              "    }\n",
              "\n",
              "    .colab-df-convert:hover {\n",
              "      background-color: #E2EBFA;\n",
              "      box-shadow: 0px 1px 2px rgba(60, 64, 67, 0.3), 0px 1px 3px 1px rgba(60, 64, 67, 0.15);\n",
              "      fill: #174EA6;\n",
              "    }\n",
              "\n",
              "    [theme=dark] .colab-df-convert {\n",
              "      background-color: #3B4455;\n",
              "      fill: #D2E3FC;\n",
              "    }\n",
              "\n",
              "    [theme=dark] .colab-df-convert:hover {\n",
              "      background-color: #434B5C;\n",
              "      box-shadow: 0px 1px 3px 1px rgba(0, 0, 0, 0.15);\n",
              "      filter: drop-shadow(0px 1px 2px rgba(0, 0, 0, 0.3));\n",
              "      fill: #FFFFFF;\n",
              "    }\n",
              "  </style>\n",
              "\n",
              "      <script>\n",
              "        const buttonEl =\n",
              "          document.querySelector('#df-24bfaa8c-78ac-4feb-a134-c18693b32be9 button.colab-df-convert');\n",
              "        buttonEl.style.display =\n",
              "          google.colab.kernel.accessAllowed ? 'block' : 'none';\n",
              "\n",
              "        async function convertToInteractive(key) {\n",
              "          const element = document.querySelector('#df-24bfaa8c-78ac-4feb-a134-c18693b32be9');\n",
              "          const dataTable =\n",
              "            await google.colab.kernel.invokeFunction('convertToInteractive',\n",
              "                                                     [key], {});\n",
              "          if (!dataTable) return;\n",
              "\n",
              "          const docLinkHtml = 'Like what you see? Visit the ' +\n",
              "            '<a target=\"_blank\" href=https://colab.research.google.com/notebooks/data_table.ipynb>data table notebook</a>'\n",
              "            + ' to learn more about interactive tables.';\n",
              "          element.innerHTML = '';\n",
              "          dataTable['output_type'] = 'display_data';\n",
              "          await google.colab.output.renderOutput(dataTable, element);\n",
              "          const docLink = document.createElement('div');\n",
              "          docLink.innerHTML = docLinkHtml;\n",
              "          element.appendChild(docLink);\n",
              "        }\n",
              "      </script>\n",
              "    </div>\n",
              "  </div>\n",
              "  "
            ]
          },
          "metadata": {},
          "execution_count": 22
        }
      ],
      "source": [
        "# Checking Duplicates\n",
        "df[df.duplicated()]"
      ]
    },
    {
      "cell_type": "markdown",
      "source": [
        "The statistical summary of dataset .Provides us with vital information like :\n",
        "the distribution, spread , lower quartile, upper quartile of the data so we also get to know the oitliers in the dataset by this summary and it also helps us to decide either we need scale the features or not and more things aswell"
      ],
      "metadata": {
        "id": "2VNVFDyECbOY"
      }
    },
    {
      "cell_type": "code",
      "execution_count": null,
      "metadata": {
        "scrolled": true,
        "id": "pWouVC9YQiN8",
        "outputId": "98b07c48-8662-4fb6-b64c-dc95daa6a97c",
        "colab": {
          "base_uri": "https://localhost:8080/",
          "height": 300
        }
      },
      "outputs": [
        {
          "output_type": "execute_result",
          "data": {
            "text/plain": [
              "       murkiness.level  avg.dolphins.seen.per.day  previous.week.fishing  \\\n",
              "count       449.000000                 449.000000             449.000000   \n",
              "mean         22.987225                   3.011418               0.549554   \n",
              "std         131.783238                   0.318383               0.040446   \n",
              "min           6.981000                   2.718282               0.500000   \n",
              "25%          11.690000                   2.795771               0.519390   \n",
              "50%          13.270000                   2.889468               0.533410   \n",
              "75%          16.030000                   3.125599               0.577260   \n",
              "max        1990.200000                   4.629025               0.701200   \n",
              "\n",
              "       diversity.of.prey  seals.seen  water.temp  people.previous.day  \\\n",
              "count         449.000000  449.000000  449.000000           449.000000   \n",
              "mean           41.732503    6.622294    3.132918            61.260579   \n",
              "std            49.233303    0.563293    0.081340            27.280721   \n",
              "min             6.802000    5.221436    2.926373            34.000000   \n",
              "25%            17.740000    6.244749    3.076814            45.000000   \n",
              "50%            24.600000    6.518114    3.127381            53.000000   \n",
              "75%            45.420000    6.988413    3.181002            69.000000   \n",
              "max           542.200000    8.355615    3.487973           267.000000   \n",
              "\n",
              "       seagull.density  overcast.weather       shark  \n",
              "count       449.000000        449.000000  449.000000  \n",
              "mean          0.613689          0.004454    0.369710  \n",
              "std           0.067188          0.066666    0.483265  \n",
              "min           0.500000          0.000000    0.000000  \n",
              "25%           0.562960          0.000000    0.000000  \n",
              "50%           0.599100          0.000000    0.000000  \n",
              "75%           0.661300          0.000000    1.000000  \n",
              "max           0.791000          1.000000    1.000000  "
            ],
            "text/html": [
              "\n",
              "  <div id=\"df-2313fae0-4922-4f8b-ab73-b8f68f98bc3d\">\n",
              "    <div class=\"colab-df-container\">\n",
              "      <div>\n",
              "<style scoped>\n",
              "    .dataframe tbody tr th:only-of-type {\n",
              "        vertical-align: middle;\n",
              "    }\n",
              "\n",
              "    .dataframe tbody tr th {\n",
              "        vertical-align: top;\n",
              "    }\n",
              "\n",
              "    .dataframe thead th {\n",
              "        text-align: right;\n",
              "    }\n",
              "</style>\n",
              "<table border=\"1\" class=\"dataframe\">\n",
              "  <thead>\n",
              "    <tr style=\"text-align: right;\">\n",
              "      <th></th>\n",
              "      <th>murkiness.level</th>\n",
              "      <th>avg.dolphins.seen.per.day</th>\n",
              "      <th>previous.week.fishing</th>\n",
              "      <th>diversity.of.prey</th>\n",
              "      <th>seals.seen</th>\n",
              "      <th>water.temp</th>\n",
              "      <th>people.previous.day</th>\n",
              "      <th>seagull.density</th>\n",
              "      <th>overcast.weather</th>\n",
              "      <th>shark</th>\n",
              "    </tr>\n",
              "  </thead>\n",
              "  <tbody>\n",
              "    <tr>\n",
              "      <th>count</th>\n",
              "      <td>449.000000</td>\n",
              "      <td>449.000000</td>\n",
              "      <td>449.000000</td>\n",
              "      <td>449.000000</td>\n",
              "      <td>449.000000</td>\n",
              "      <td>449.000000</td>\n",
              "      <td>449.000000</td>\n",
              "      <td>449.000000</td>\n",
              "      <td>449.000000</td>\n",
              "      <td>449.000000</td>\n",
              "    </tr>\n",
              "    <tr>\n",
              "      <th>mean</th>\n",
              "      <td>22.987225</td>\n",
              "      <td>3.011418</td>\n",
              "      <td>0.549554</td>\n",
              "      <td>41.732503</td>\n",
              "      <td>6.622294</td>\n",
              "      <td>3.132918</td>\n",
              "      <td>61.260579</td>\n",
              "      <td>0.613689</td>\n",
              "      <td>0.004454</td>\n",
              "      <td>0.369710</td>\n",
              "    </tr>\n",
              "    <tr>\n",
              "      <th>std</th>\n",
              "      <td>131.783238</td>\n",
              "      <td>0.318383</td>\n",
              "      <td>0.040446</td>\n",
              "      <td>49.233303</td>\n",
              "      <td>0.563293</td>\n",
              "      <td>0.081340</td>\n",
              "      <td>27.280721</td>\n",
              "      <td>0.067188</td>\n",
              "      <td>0.066666</td>\n",
              "      <td>0.483265</td>\n",
              "    </tr>\n",
              "    <tr>\n",
              "      <th>min</th>\n",
              "      <td>6.981000</td>\n",
              "      <td>2.718282</td>\n",
              "      <td>0.500000</td>\n",
              "      <td>6.802000</td>\n",
              "      <td>5.221436</td>\n",
              "      <td>2.926373</td>\n",
              "      <td>34.000000</td>\n",
              "      <td>0.500000</td>\n",
              "      <td>0.000000</td>\n",
              "      <td>0.000000</td>\n",
              "    </tr>\n",
              "    <tr>\n",
              "      <th>25%</th>\n",
              "      <td>11.690000</td>\n",
              "      <td>2.795771</td>\n",
              "      <td>0.519390</td>\n",
              "      <td>17.740000</td>\n",
              "      <td>6.244749</td>\n",
              "      <td>3.076814</td>\n",
              "      <td>45.000000</td>\n",
              "      <td>0.562960</td>\n",
              "      <td>0.000000</td>\n",
              "      <td>0.000000</td>\n",
              "    </tr>\n",
              "    <tr>\n",
              "      <th>50%</th>\n",
              "      <td>13.270000</td>\n",
              "      <td>2.889468</td>\n",
              "      <td>0.533410</td>\n",
              "      <td>24.600000</td>\n",
              "      <td>6.518114</td>\n",
              "      <td>3.127381</td>\n",
              "      <td>53.000000</td>\n",
              "      <td>0.599100</td>\n",
              "      <td>0.000000</td>\n",
              "      <td>0.000000</td>\n",
              "    </tr>\n",
              "    <tr>\n",
              "      <th>75%</th>\n",
              "      <td>16.030000</td>\n",
              "      <td>3.125599</td>\n",
              "      <td>0.577260</td>\n",
              "      <td>45.420000</td>\n",
              "      <td>6.988413</td>\n",
              "      <td>3.181002</td>\n",
              "      <td>69.000000</td>\n",
              "      <td>0.661300</td>\n",
              "      <td>0.000000</td>\n",
              "      <td>1.000000</td>\n",
              "    </tr>\n",
              "    <tr>\n",
              "      <th>max</th>\n",
              "      <td>1990.200000</td>\n",
              "      <td>4.629025</td>\n",
              "      <td>0.701200</td>\n",
              "      <td>542.200000</td>\n",
              "      <td>8.355615</td>\n",
              "      <td>3.487973</td>\n",
              "      <td>267.000000</td>\n",
              "      <td>0.791000</td>\n",
              "      <td>1.000000</td>\n",
              "      <td>1.000000</td>\n",
              "    </tr>\n",
              "  </tbody>\n",
              "</table>\n",
              "</div>\n",
              "      <button class=\"colab-df-convert\" onclick=\"convertToInteractive('df-2313fae0-4922-4f8b-ab73-b8f68f98bc3d')\"\n",
              "              title=\"Convert this dataframe to an interactive table.\"\n",
              "              style=\"display:none;\">\n",
              "        \n",
              "  <svg xmlns=\"http://www.w3.org/2000/svg\" height=\"24px\"viewBox=\"0 0 24 24\"\n",
              "       width=\"24px\">\n",
              "    <path d=\"M0 0h24v24H0V0z\" fill=\"none\"/>\n",
              "    <path d=\"M18.56 5.44l.94 2.06.94-2.06 2.06-.94-2.06-.94-.94-2.06-.94 2.06-2.06.94zm-11 1L8.5 8.5l.94-2.06 2.06-.94-2.06-.94L8.5 2.5l-.94 2.06-2.06.94zm10 10l.94 2.06.94-2.06 2.06-.94-2.06-.94-.94-2.06-.94 2.06-2.06.94z\"/><path d=\"M17.41 7.96l-1.37-1.37c-.4-.4-.92-.59-1.43-.59-.52 0-1.04.2-1.43.59L10.3 9.45l-7.72 7.72c-.78.78-.78 2.05 0 2.83L4 21.41c.39.39.9.59 1.41.59.51 0 1.02-.2 1.41-.59l7.78-7.78 2.81-2.81c.8-.78.8-2.07 0-2.86zM5.41 20L4 18.59l7.72-7.72 1.47 1.35L5.41 20z\"/>\n",
              "  </svg>\n",
              "      </button>\n",
              "      \n",
              "  <style>\n",
              "    .colab-df-container {\n",
              "      display:flex;\n",
              "      flex-wrap:wrap;\n",
              "      gap: 12px;\n",
              "    }\n",
              "\n",
              "    .colab-df-convert {\n",
              "      background-color: #E8F0FE;\n",
              "      border: none;\n",
              "      border-radius: 50%;\n",
              "      cursor: pointer;\n",
              "      display: none;\n",
              "      fill: #1967D2;\n",
              "      height: 32px;\n",
              "      padding: 0 0 0 0;\n",
              "      width: 32px;\n",
              "    }\n",
              "\n",
              "    .colab-df-convert:hover {\n",
              "      background-color: #E2EBFA;\n",
              "      box-shadow: 0px 1px 2px rgba(60, 64, 67, 0.3), 0px 1px 3px 1px rgba(60, 64, 67, 0.15);\n",
              "      fill: #174EA6;\n",
              "    }\n",
              "\n",
              "    [theme=dark] .colab-df-convert {\n",
              "      background-color: #3B4455;\n",
              "      fill: #D2E3FC;\n",
              "    }\n",
              "\n",
              "    [theme=dark] .colab-df-convert:hover {\n",
              "      background-color: #434B5C;\n",
              "      box-shadow: 0px 1px 3px 1px rgba(0, 0, 0, 0.15);\n",
              "      filter: drop-shadow(0px 1px 2px rgba(0, 0, 0, 0.3));\n",
              "      fill: #FFFFFF;\n",
              "    }\n",
              "  </style>\n",
              "\n",
              "      <script>\n",
              "        const buttonEl =\n",
              "          document.querySelector('#df-2313fae0-4922-4f8b-ab73-b8f68f98bc3d button.colab-df-convert');\n",
              "        buttonEl.style.display =\n",
              "          google.colab.kernel.accessAllowed ? 'block' : 'none';\n",
              "\n",
              "        async function convertToInteractive(key) {\n",
              "          const element = document.querySelector('#df-2313fae0-4922-4f8b-ab73-b8f68f98bc3d');\n",
              "          const dataTable =\n",
              "            await google.colab.kernel.invokeFunction('convertToInteractive',\n",
              "                                                     [key], {});\n",
              "          if (!dataTable) return;\n",
              "\n",
              "          const docLinkHtml = 'Like what you see? Visit the ' +\n",
              "            '<a target=\"_blank\" href=https://colab.research.google.com/notebooks/data_table.ipynb>data table notebook</a>'\n",
              "            + ' to learn more about interactive tables.';\n",
              "          element.innerHTML = '';\n",
              "          dataTable['output_type'] = 'display_data';\n",
              "          await google.colab.output.renderOutput(dataTable, element);\n",
              "          const docLink = document.createElement('div');\n",
              "          docLink.innerHTML = docLinkHtml;\n",
              "          element.appendChild(docLink);\n",
              "        }\n",
              "      </script>\n",
              "    </div>\n",
              "  </div>\n",
              "  "
            ]
          },
          "metadata": {},
          "execution_count": 23
        }
      ],
      "source": [
        "df.describe()"
      ]
    },
    {
      "cell_type": "markdown",
      "metadata": {
        "id": "O6uHpc_WQiN8"
      },
      "source": [
        "If we just go to the top and see the statistical properties of features in exploration part then we will know that there are some features that has some outliers. These features are given below."
      ]
    },
    {
      "cell_type": "code",
      "execution_count": null,
      "metadata": {
        "id": "-_SNKn2rQiN8"
      },
      "outputs": [],
      "source": [
        "# Features with outliers\n",
        "cols = [\"murkiness.level\", \"diversity.of.prey\", \"people.previous.day\"]"
      ]
    },
    {
      "cell_type": "code",
      "execution_count": null,
      "metadata": {
        "id": "oKrfvQYUQiN8",
        "outputId": "7992cdbe-a7f6-478e-f3d1-a57a8b2cb7a2",
        "colab": {
          "base_uri": "https://localhost:8080/",
          "height": 1000
        }
      },
      "outputs": [
        {
          "output_type": "stream",
          "name": "stdout",
          "text": [
            "Plot for murkiness.level\n"
          ]
        },
        {
          "output_type": "display_data",
          "data": {
            "text/plain": [
              "<Figure size 1008x432 with 0 Axes>"
            ]
          },
          "metadata": {}
        },
        {
          "output_type": "display_data",
          "data": {
            "text/plain": [
              "<Figure size 360x360 with 1 Axes>"
            ],
            "image/png": "[encoded data removed]"
          },
          "metadata": {}
        },
        {
          "output_type": "stream",
          "name": "stdout",
          "text": [
            "========================================================================================================================\n",
            "Plot for diversity.of.prey\n"
          ]
        },
        {
          "output_type": "display_data",
          "data": {
            "text/plain": [
              "<Figure size 1008x432 with 0 Axes>"
            ]
          },
          "metadata": {}
        },
        {
          "output_type": "display_data",
          "data": {
            "text/plain": [
              "<Figure size 360x360 with 1 Axes>"
            ],
            "image/png": "[encoded data removed]"
          },
          "metadata": {}
        },
        {
          "output_type": "stream",
          "name": "stdout",
          "text": [
            "========================================================================================================================\n",
            "Plot for people.previous.day\n"
          ]
        },
        {
          "output_type": "display_data",
          "data": {
            "text/plain": [
              "<Figure size 1008x432 with 0 Axes>"
            ]
          },
          "metadata": {}
        },
        {
          "output_type": "display_data",
          "data": {
            "text/plain": [
              "<Figure size 360x360 with 1 Axes>"
            ],
            "image/png": "[encoded data removed]"
          },
          "metadata": {}
        },
        {
          "output_type": "stream",
          "name": "stdout",
          "text": [
            "========================================================================================================================\n"
          ]
        }
      ],
      "source": [
        "for i in cols:\n",
        "    print(f\"Plot for {i}\")\n",
        "    plt.figure(figsize=(14, 6))\n",
        "    sns.displot(df[i], kde=True)\n",
        "    plt.show()\n",
        "    print(\"=\"*120)"
      ]
    },
    {
      "cell_type": "markdown",
      "source": [
        "So outliers are discordant data and has an abnormal distance from other values hence why outliers can be a big problem for modeling so i will handle it and outliers can be a cruical main step in data preparation so we iterate through the columns, calculate the quartile and percentile and find the outliers in each columns and figure it out before heading on to the next steps so below is a demonstration of that :"
      ],
      "metadata": {
        "id": "vinxFhcqDeKV"
      }
    },
    {
      "cell_type": "code",
      "execution_count": null,
      "metadata": {
        "id": "kf0rxyWxQiN8",
        "outputId": "62f14499-2791-4a59-edce-24588d7e7fd4",
        "colab": {
          "base_uri": "https://localhost:8080/"
        }
      },
      "outputs": [
        {
          "output_type": "stream",
          "name": "stdout",
          "text": [
            "murkiness.level              14\n",
            "avg.dolphins.seen.per.day     0\n",
            "previous.week.fishing         0\n",
            "diversity.of.prey            54\n",
            "seals.seen                    0\n",
            "water.temp                    0\n",
            "people.previous.day          28\n",
            "seagull.density               0\n",
            "common.surfboard.colour       0\n",
            "overcast.weather              0\n",
            "time.of.day                   0\n",
            "shark                         0\n",
            "dtype: int64\n"
          ]
        }
      ],
      "source": [
        "# Creating a copy of data\n",
        "df_n = df.copy()\n",
        "\n",
        "# Iterating each column\n",
        "for x in df[cols].columns.tolist():\n",
        "    # Calculating percentiles & interquartile range\n",
        "    q75,q25 = np.percentile(df.loc[:,x],[75,25])\n",
        "    intr_qr = q75-q25\n",
        "\n",
        "    # Getting max and min value\n",
        "    max = q75+(1.5*intr_qr)\n",
        "    min = q25-(1.5*intr_qr)\n",
        "\n",
        "    # Marking values as outlier if they are not in range\n",
        "    df_n.loc[df[x] < min,x] = np.nan\n",
        "    df_n.loc[df[x] > max,x] = np.nan\n",
        "\n",
        "# lets try to check the sum of count of NULL values/outliers in each column of the dataset\n",
        "temp = df_n.isnull().sum()\n",
        "print(temp)"
      ]
    },
    {
      "cell_type": "markdown",
      "source": [
        "so fortunately there are only few outliers and we will delete or drop them so it doesnt effect the model performance."
      ],
      "metadata": {
        "id": "Bg66oTgSE89s"
      }
    },
    {
      "cell_type": "code",
      "execution_count": null,
      "metadata": {
        "id": "dE1PRVRfQiN9"
      },
      "outputs": [],
      "source": [
        "# Dropping outliers\n",
        "df = df_n.dropna(axis = 0)"
      ]
    },
    {
      "cell_type": "code",
      "execution_count": null,
      "metadata": {
        "id": "l_BGhY27QiN9"
      },
      "outputs": [],
      "source": [
        "cat_cols = df.select_dtypes(\"O\").columns\n",
        "num_cols = df.iloc[:, :-4].columns"
      ]
    },
    {
      "cell_type": "markdown",
      "source": [
        "Label encoder is used here to handle the categorical features. Handling categorical features means to encode the categorical columns as our model needs the entire data in numeric format so this is an important step and another important note to keep in mind is that we need to preserve the relationship before and after the label encoding. In below code I iterated through object data type of columns and converted it in numbers 0 to 9."
      ],
      "metadata": {
        "id": "F9-3ZglLFxRv"
      }
    },
    {
      "cell_type": "code",
      "execution_count": null,
      "metadata": {
        "id": "IycNwVFVQiN9"
      },
      "outputs": [],
      "source": [
        "# Encoding Feature\n",
        "from sklearn.preprocessing import LabelEncoder\n",
        "encoder = LabelEncoder()\n",
        "\n",
        "for i in df.select_dtypes(\"O\").columns:\n",
        "    df[i] = encoder.fit_transform(df[i])"
      ]
    },
    {
      "cell_type": "markdown",
      "source": [
        "Standard scaler is used to scale the features and I decided based upon the previous steps at the statistical summary section and distribution of different columns. This process is a very common pre-processing step.\n"
      ],
      "metadata": {
        "id": "2PtpFrexGQW3"
      }
    },
    {
      "cell_type": "code",
      "execution_count": null,
      "metadata": {
        "id": "ji7smfUMQiN9"
      },
      "outputs": [],
      "source": [
        "# Scaling features\n",
        "from sklearn.preprocessing import StandardScaler\n",
        "scaler = StandardScaler()\n",
        "\n",
        "df[num_cols] = scaler.fit_transform(df[num_cols])"
      ]
    },
    {
      "cell_type": "code",
      "execution_count": null,
      "metadata": {
        "id": "XCEo7AAkQiN9"
      },
      "outputs": [],
      "source": [
        "# Spliting data into input and output\n",
        "X = df.drop(\"shark\", axis=1)\n",
        "y = df.shark"
      ]
    },
    {
      "cell_type": "code",
      "execution_count": null,
      "metadata": {
        "id": "7U78Mbo5QiN-"
      },
      "outputs": [],
      "source": [
        "# Balancing data\n",
        "from imblearn.over_sampling import SMOTE\n",
        "sampler = SMOTE()\n",
        "X, y = sampler.fit_resample(X, y)"
      ]
    },
    {
      "cell_type": "code",
      "execution_count": null,
      "metadata": {
        "id": "4DLUDlSWQiN-"
      },
      "outputs": [],
      "source": [
        "from sklearn.model_selection import train_test_split\n",
        "X_train, X_test, y_train, y_test = train_test_split(X, y, test_size=0.25)"
      ]
    },
    {
      "cell_type": "markdown",
      "metadata": {
        "id": "N284_P7YQiN-"
      },
      "source": [
        "# Modeling"
      ]
    },
    {
      "cell_type": "code",
      "execution_count": null,
      "metadata": {
        "id": "GrzlxPxkQiN-"
      },
      "outputs": [],
      "source": [
        "# Importing Evaluation matrices\n",
        "from sklearn.metrics import accuracy_score,precision_score,recall_score,f1_score,confusion_matrix,classification_report, roc_curve, roc_auc_score"
      ]
    },
    {
      "cell_type": "markdown",
      "source": [
        "we type in another function that *evaluates*. This function prints the entire array of all the evaluation metrics in classification such as precision, recall, f1 score ,accuracy,confusion matrix etc.\n",
        "These metrics tell us the performance of model compared to the actual using the TN, FN, FP & TP.\n",
        "\n",
        "However before moving forward i will breifly explain in plain terms what we need to know in the formula and the metrics's actual meanings so first we know that when we train the model it learns all aspects of the data and after that we evaluate the model on unseen data and cross check it a prediction so once a model creates any predictions we can then compare these prediction with the actual and find the accurate value.\n",
        "\n",
        "**TN:** its mean model predicted that there is no shark appeared and on actual data also there is also no shark appeared so its mean model predicts correctly . In this way we have specific number so higher the number means model predict correctly.\n",
        "\n",
        "**FN:** Model predict that there is no shark appeared today based on multiple features and on actual data the shark is appeared at that day so its mean model prediction is wrong so greater the value of FP means model performance is not good.\n",
        "\n",
        "FP: So model predict that there is shark appeared on the sea at this day and on actual data there is no shark appeared on beach so its mean model prediction is wrong and is false positive so large number of false positive mean that model performance is affected\n",
        "\n",
        "**TP:** So model predicts that there is shark appeared on the beach at that day and on actual data there is also shark appeared so model predicts correctly so its we need large number of True positive .\n",
        "\n",
        "so we keep in mind these 4 concepts TN,TP,FP,FN . we need large value of TN and TP and low value of FN and FP and all others metrics is based on this concept.\n",
        "\n",
        "\n",
        "so the confusion matrix is as below image plus the formula of precision and recall is given below\n",
        "\n",
        "\n",
        "\n",
        "![1.png](data:image/png;base64,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)\n",
        "\n",
        "\n",
        "\n",
        "\n",
        "\n",
        "![2.png](data:image/png;base64,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)![3.png](data:image/png;base64,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)![4.png](data:image/png;base64,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)"
      ],
      "metadata": {
        "id": "q_A6uXr7uga4"
      }
    },
    {
      "cell_type": "markdown",
      "source": [
        "So the precision means total TP (model prediction at shark appeared on beach) is divided by model correct prediction plus model wrong prediction (shark appeared on beach but actually its not appeared)\n",
        "\n",
        "So the recall means total TP (model prediction at shark appeared on beach) is divided by model correct prediction plus model wrong prediction (shark not appeared on beach but actually its  appeared)\n",
        "\n",
        "similarly there is different formula of f1 score.\n",
        "\n",
        "so higher the values of precision recall and f1 score means our model performance is very good so we need maximum values of all evaluation metrics and  on confusion matrix we need large values of TN and TP and lower value of FP and FN .In other words we need large value diagonally."
      ],
      "metadata": {
        "id": "fGjW8BC5vaiZ"
      }
    },
    {
      "cell_type": "code",
      "execution_count": null,
      "metadata": {
        "id": "xkg877ZdQiN-"
      },
      "outputs": [],
      "source": [
        "def evaluate(y_test, y_pred, name):\n",
        "    # Accuracy\n",
        "    accuracy = accuracy_score(y_test, y_pred)\n",
        "\n",
        "    # Precision\n",
        "    precision = precision_score(y_test, y_pred, average=None)\n",
        "\n",
        "    # Recall\n",
        "    recall = recall_score(y_test, y_pred, average=None)\n",
        "\n",
        "    # F1 Score\n",
        "    f1_sco = f1_score(y_test, y_pred, average=None)\n",
        "\n",
        "    # Confusion Matrix\n",
        "    confusion_mat = confusion_matrix(y_test, y_pred)\n",
        "\n",
        "    # Report\n",
        "    report = classification_report(y_test, y_pred)\n",
        "\n",
        "\n",
        "    print(\"+\",\"=\"*100,\"+\")\n",
        "    print('\\033[1m' + f\"\\t\\t\\tFor {str(name).upper()} The Performance result is: \" + '\\033[0m')\n",
        "    print(\"+\",\"=\"*100,\"+\")\n",
        "    print('Accuracy : ', accuracy)\n",
        "    print(\"-\"*50)\n",
        "    print('F1 : ', f1_sco)\n",
        "    print(\"-\"*50)\n",
        "    print('Recall : ', recall)\n",
        "    print(\"-\"*50)\n",
        "    print('Precision : ', precision)\n",
        "    print(\"-\"*50)\n",
        "    print('Confusion Matrix....\\n', confusion_mat)\n",
        "    print(\"-\"*50)\n",
        "    print('Classification Report....\\n', report)\n",
        "    print(\"-\"*50)\n",
        "    print('Plotting Confusion Matrix...\\n')\n",
        "    plt.figure(figsize=(8, 6))\n",
        "    sns.heatmap(confusion_mat, annot=True)\n",
        "    plt.show()\n",
        "\n",
        "\n",
        "    fpr, tpr, _ = roc_curve(y_test,  y_pred)\n",
        "    auc = roc_auc_score(y_test, y_pred)\n",
        "\n",
        "    plt.figure(figsize=(14, 5))\n",
        "    plt.plot(fpr,tpr,label=\"AUC=\"+str(auc))\n",
        "    plt.legend(loc=4)\n",
        "    plt.show()"
      ]
    },
    {
      "cell_type": "markdown",
      "metadata": {
        "id": "9rMC_M2QQiN-"
      },
      "source": [
        "### 1) Logistic Regression"
      ]
    },
    {
      "cell_type": "markdown",
      "source": [
        "Logistic regression is not a complex structure it works on a sigmoid graph and provides with a probability. So we already know that our data is balanced as we also handled our outliers and missing values and have we prepared the data very well to train it and we see that the logistic regression performs well.\n",
        "\n",
        "Let us look into it more depply\n",
        "\n",
        "So the accuracy,F1, recall and precision value is above 85% and TP and TN is also large but the FP and FN are very less.\n",
        "\n",
        "AUC of 0.5 is not good and AUC of 0.7 to 0.8 is considered acceptable, 0.8 to 0.9 is considered excellent, and more than 0.9 is considered outstanding\n",
        "\n",
        "The TPR that is on xaxis and FPR is on y axis so higher the TPR and higher the FPR makes good value of auc so in logistic regression we scored a 88% auc, that is considered very good.\n",
        "\n",
        "\n",
        "![ezgif.com-gif-maker.jpg](data:image/jpeg;base64,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)\n",
        "\n",
        "\n",
        "![6.gif](data:image/gif;base64,R0lGODlhJQEnALMAAP///wAAAO7u7mZmZiIiIkRERIiIiDIyMlRUVKqqqrq6uszMzHZ2dpiYmNzc3BAQECH5BAEAAAAALAAAAAAlAScAAAT+EMhJq7046827FQMRDORQBAbFiExrLl4sz3Rt33iu7/x2IBVDolIAThQBR2/JbDqf0CgvMKQoYJRAgyJASb/gsHhMPgYEEqwCbVZOFgFFeU6v2+8SxmHCwDAeRHt4g4SFhjUEBwwIXhc/FAYHbIeUlZaDXVgNWBYBBQYGLXKXpKWmXwkBRxhInKevsLE5A4Iaf7K4ubobBH28RrvBwrEOcRtdVcPKy5R6nr4XzgXJzNVLICIlJo15LC4FrgArIwwDCAOT1pUCBaNLCQygDQJbPQmAHwMGAxT3HP4THITT8AgSNQBFrCQhwo8PAXWVHDBoYGzJAHcLHgzEIcANkQT+CRpK6MiB5IQC9TpQqXClghYu3CSsnJBqI8RBFXnAq1ArSpd0OBZ2QMJGTTokHgHAcQeAKAUE+G5SyrkDQUoJKVA93JExhh4+fqJKKNBTXM8BGqVWoqojxMYEoBw0aCASwNwG0AAkaABSiQK6FQSsUOTub129fBP4BaxUT68tC0LSBAYg0aKYFApilcQTwV4EB7KqncpUB7sADxAwTdClnr6x9RaMGuBLET0AaYlcvZ0bAG0Jtrf0RjlSOBYE0DJJ2ITBEyhRFwJwGnC1gjkE2LNnzzsaw3Xt2rm7LL1DLqPYArrmAfIVgGA0DWrBkFPsQu+mAOovl49fv0w39Kn+IsED7qSyygWtbIAEBRQxEcCDEEYo4YQUVmjhhRhm+KCD5KVRwIcghiiaBpFAAkwB/DxA3VxsPFBdHoe5J2AF5UzgYjQiKSCWOEbAQQEtHNyyQXsSDDBjd4WwdYMDpSlQAAXEyTSPUAFRScF9EiiwVQW5FZOUjZwsUgEBVZQ4QS8cEEAZBmhOcMCWFnwHHnbiIfnjnOFpoKQNfNFIzRkSJPDQT1z4SIESguJnogWJymFoQHo9NApxAowCKELQFNMhTAd9QNUBTzJpJ06b0vBhP3XB4cYBWBzgDnMEeGSAEi0AMCIACNwqTh9ZxTrBrLvaKgEBMIgGqKZ5HPBMBtL+dMqHsp4dcUADuo46hmAnKGKTDAwIFgoDBzVgFV4eCXYXGxKdmwZ1QBFA3gLsSpAui+vOE+hEHuGF16XW9iuGVU8cCYUBTwbTQGotPPBAC1DlNQ4nAjAyzQ7YjFDCCSOO00I54AiDpWlNFewEgcOW+goCkyx8RHUGqGkdE5phdVBCbeziXw8uMmAyRw3VGIwDySCbRmnU8iuAsxU0sHMWB7WUxW6YwaKAsugsMVG1Pcw10TDUNHjEUQ50IRprHCjtgVNKZXmUlUv563YYoJFYZFRYJ710smBFsyNZb/ctxQN1C6tURYFPYHYHljGCdcyRAOX34+VJl8FtwIV69+F6x0hul03OfXs35KDHYIDALHmUilwZyHnAD9thYGCWrGge+uw9nJpBdQsXbvjdQA65I+3A3xA1gzQC7gHmGrSZ/JrBNy8DHNsuUF0XnyOPgdCTz+T89h3sI0IBDHzp2wMEVBfj7TtLU2eyniDN/ftjWA///Ls4Tv8uEQAAOw==)"
      ],
      "metadata": {
        "id": "e8glDDss0fwq"
      }
    },
    {
      "cell_type": "code",
      "execution_count": null,
      "metadata": {
        "id": "M576kLkLQiN_",
        "outputId": "ad812ce7-812a-4cbe-adfc-9d582218a6a2",
        "colab": {
          "base_uri": "https://localhost:8080/",
          "height": 1000
        }
      },
      "outputs": [
        {
          "output_type": "stream",
          "name": "stdout",
          "text": [
            "+ ==================================================================================================== +\n",
            "\u001b[1m\t\t\tFor LOGISTIC REGRESSION The Performance result is: \u001b[0m\n",
            "+ ==================================================================================================== +\n",
            "Accuracy :  0.8832116788321168\n",
            "--------------------------------------------------\n",
            "F1 :  [0.88235294 0.88405797]\n",
            "--------------------------------------------------\n",
            "Recall :  [0.88235294 0.88405797]\n",
            "--------------------------------------------------\n",
            "Precision :  [0.88235294 0.88405797]\n",
            "--------------------------------------------------\n",
            "Confusion Matrix....\n",
            " [[60  8]\n",
            " [ 8 61]]\n",
            "--------------------------------------------------\n",
            "Classification Report....\n",
            "               precision    recall  f1-score   support\n",
            "\n",
            "           0       0.88      0.88      0.88        68\n",
            "           1       0.88      0.88      0.88        69\n",
            "\n",
            "    accuracy                           0.88       137\n",
            "   macro avg       0.88      0.88      0.88       137\n",
            "weighted avg       0.88      0.88      0.88       137\n",
            "\n",
            "--------------------------------------------------\n",
            "Plotting Confusion Matrix...\n",
            "\n"
          ]
        },
        {
          "output_type": "display_data",
          "data": {
            "text/plain": [
              "<Figure size 576x432 with 2 Axes>"
            ],
            "image/png": "[encoded data removed]"
          },
          "metadata": {}
        },
        {
          "output_type": "display_data",
          "data": {
            "text/plain": [
              "<Figure size 1008x360 with 1 Axes>"
            ],
            "image/png": "[encoded data removed]"
          },
          "metadata": {}
        }
      ],
      "source": [
        "from sklearn.linear_model import LogisticRegression\n",
        "model = LogisticRegression()\n",
        "model.fit(X_train, y_train)\n",
        "y_pred = model.predict(X_test)\n",
        "evaluate(y_test, y_pred, \"Logistic Regression\")"
      ]
    },
    {
      "cell_type": "markdown",
      "metadata": {
        "id": "V7zcQZxFQiN_"
      },
      "source": [
        "### 2) Random Forest"
      ]
    },
    {
      "cell_type": "markdown",
      "source": [
        "so here i used a random forest classifier which tends to be more robust in nature when compared to logistic regression and a tree based model and its performance tend to be very good on simple as well as complex datasets.\n",
        "\n",
        "Random forest has a very good TP and its TN is large.\n",
        "The actual and the value of wrong prediction FP and FN is small and it seems to be this is the best model out all three as all the metrics is above 90% that is extraordinary performance and only a few times RF model predicts wrong outputs out of 100 so this is a great performance by our model Moreover, we also have the option to tune the model, so in this way Random forest also tries to correct its mistakes/errors to achieve more accuracy probably more then 94% and value of auc is also very good at 94%"
      ],
      "metadata": {
        "id": "yV-O7h7g51ym"
      }
    },
    {
      "cell_type": "code",
      "execution_count": null,
      "metadata": {
        "scrolled": false,
        "id": "aeeimJ_gQiN_",
        "outputId": "8725e545-0bb1-4055-99aa-eadf5d798932",
        "colab": {
          "base_uri": "https://localhost:8080/",
          "height": 1000
        }
      },
      "outputs": [
        {
          "output_type": "stream",
          "name": "stdout",
          "text": [
            "+ ==================================================================================================== +\n",
            "\u001b[1m\t\t\tFor RANDOM FOREST The Performance result is: \u001b[0m\n",
            "+ ==================================================================================================== +\n",
            "Accuracy :  0.9416058394160584\n",
            "--------------------------------------------------\n",
            "F1 :  [0.94029851 0.94285714]\n",
            "--------------------------------------------------\n",
            "Recall :  [0.92647059 0.95652174]\n",
            "--------------------------------------------------\n",
            "Precision :  [0.95454545 0.92957746]\n",
            "--------------------------------------------------\n",
            "Confusion Matrix....\n",
            " [[63  5]\n",
            " [ 3 66]]\n",
            "--------------------------------------------------\n",
            "Classification Report....\n",
            "               precision    recall  f1-score   support\n",
            "\n",
            "           0       0.95      0.93      0.94        68\n",
            "           1       0.93      0.96      0.94        69\n",
            "\n",
            "    accuracy                           0.94       137\n",
            "   macro avg       0.94      0.94      0.94       137\n",
            "weighted avg       0.94      0.94      0.94       137\n",
            "\n",
            "--------------------------------------------------\n",
            "Plotting Confusion Matrix...\n",
            "\n"
          ]
        },
        {
          "output_type": "display_data",
          "data": {
            "text/plain": [
              "<Figure size 576x432 with 2 Axes>"
            ],
            "image/png": "[encoded data removed]"
          },
          "metadata": {}
        },
        {
          "output_type": "display_data",
          "data": {
            "text/plain": [
              "<Figure size 1008x360 with 1 Axes>"
            ],
            "image/png": "[encoded data removed]"
          },
          "metadata": {}
        }
      ],
      "source": [
        "from sklearn.ensemble import RandomForestClassifier\n",
        "model = RandomForestClassifier()\n",
        "model.fit(X_train, y_train)\n",
        "y_pred = model.predict(X_test)\n",
        "evaluate(y_test, y_pred, \"Random Forest\")"
      ]
    },
    {
      "cell_type": "markdown",
      "metadata": {
        "id": "3kDhP9s4QiN_"
      },
      "source": [
        "### Artificial Neural Network"
      ]
    },
    {
      "cell_type": "markdown",
      "source": [
        "so NN is a deep learning algorithm and we expect it to differently to the two other models as we need to add hidden layers one by one varying to the complexity of given dataset inaddition, if we want to built a complex network and your dataset is simple then it may cause underfitting.\n",
        "\n",
        "\n",
        "Brief explanation behind NN in simple terms: if you have a large and complicated set of data then what we need to build is a large complex network with alot of hidden layers and start from 512 neurons then decrease a downwards and move to a final output layer where we can then have 1 neuron.\n",
        "\n",
        "i have used a relu actification function on the hidden layer and used sigmoid on the output layer as we know that sigmoid has two outputs either 0 or 1s and that concludes to either shark appeared or not .. as this is a binary supervised learning problem either shark appeared on premises or not hence why we use sigmoid on the final layer and once we have built our network we set metrics and optimisers using the compile function inserted below. Optimizers are used to update the loss in our case. Lastly we train and print the results ( accuracy and validation at each epoch ). So if the model trains well then it performs well on unseen data when introduced."
      ],
      "metadata": {
        "id": "98M4Z1Cu7uD7"
      }
    },
    {
      "cell_type": "code",
      "execution_count": null,
      "metadata": {
        "id": "gkiuKST4QiN_"
      },
      "outputs": [],
      "source": [
        "from tensorflow.keras.models import Sequential\n",
        "from tensorflow.keras.layers import Dense"
      ]
    },
    {
      "cell_type": "code",
      "execution_count": null,
      "metadata": {
        "id": "qbs1YMo9QiN_",
        "outputId": "5e9219bc-1f7e-4fd1-a96f-6d3fedd88cd6",
        "colab": {
          "base_uri": "https://localhost:8080/"
        }
      },
      "outputs": [
        {
          "output_type": "stream",
          "name": "stdout",
          "text": [
            "Model: \"sequential\"\n",
            "_________________________________________________________________\n",
            " Layer (type)                Output Shape              Param #   \n",
            "=================================================================\n",
            " dense (Dense)               (None, 8)                 96        \n",
            "                                                                 \n",
            " dense_1 (Dense)             (None, 16)                144       \n",
            "                                                                 \n",
            " dense_2 (Dense)             (None, 1)                 17        \n",
            "                                                                 \n",
            "=================================================================\n",
            "Total params: 257\n",
            "Trainable params: 257\n",
            "Non-trainable params: 0\n",
            "_________________________________________________________________\n"
          ]
        }
      ],
      "source": [
        "model = Sequential()\n",
        "model.add(Dense(8, input_dim=X_train.shape[1], activation=\"relu\"))\n",
        "model.add(Dense(16, activation=\"relu\"))\n",
        "model.add(Dense(1, activation=\"sigmoid\"))\n",
        "model.summary()"
      ]
    },
    {
      "cell_type": "code",
      "execution_count": null,
      "metadata": {
        "id": "RdfefeFZQiN_",
        "outputId": "ead691ef-1e20-433c-a822-30b45466f863",
        "colab": {
          "base_uri": "https://localhost:8080/"
        }
      },
      "outputs": [
        {
          "output_type": "stream",
          "name": "stdout",
          "text": [
            "Epoch 1/15\n",
            "13/13 [==============================] - 2s 39ms/step - loss: 0.5739 - accuracy: 0.7457 - val_loss: 0.5316 - val_accuracy: 0.8248\n",
            "Epoch 2/15\n",
            "13/13 [==============================] - 0s 18ms/step - loss: 0.5243 - accuracy: 0.8044 - val_loss: 0.4873 - val_accuracy: 0.8321\n",
            "Epoch 3/15\n",
            "13/13 [==============================] - 0s 17ms/step - loss: 0.4901 - accuracy: 0.8240 - val_loss: 0.4526 - val_accuracy: 0.8613\n",
            "Epoch 4/15\n",
            "13/13 [==============================] - 0s 16ms/step - loss: 0.4626 - accuracy: 0.8484 - val_loss: 0.4234 - val_accuracy: 0.8686\n",
            "Epoch 5/15\n",
            "13/13 [==============================] - 0s 11ms/step - loss: 0.4400 - accuracy: 0.8582 - val_loss: 0.3965 - val_accuracy: 0.8905\n",
            "Epoch 6/15\n",
            "13/13 [==============================] - 0s 11ms/step - loss: 0.4196 - accuracy: 0.8631 - val_loss: 0.3728 - val_accuracy: 0.8978\n",
            "Epoch 7/15\n",
            "13/13 [==============================] - 0s 9ms/step - loss: 0.4022 - accuracy: 0.8655 - val_loss: 0.3529 - val_accuracy: 0.9051\n",
            "Epoch 8/15\n",
            "13/13 [==============================] - 0s 7ms/step - loss: 0.3885 - accuracy: 0.8680 - val_loss: 0.3368 - val_accuracy: 0.8978\n",
            "Epoch 9/15\n",
            "13/13 [==============================] - 0s 8ms/step - loss: 0.3787 - accuracy: 0.8729 - val_loss: 0.3237 - val_accuracy: 0.8978\n",
            "Epoch 10/15\n",
            "13/13 [==============================] - 0s 11ms/step - loss: 0.3707 - accuracy: 0.8729 - val_loss: 0.3155 - val_accuracy: 0.8978\n",
            "Epoch 11/15\n",
            "13/13 [==============================] - 0s 6ms/step - loss: 0.3641 - accuracy: 0.8753 - val_loss: 0.3089 - val_accuracy: 0.8978\n",
            "Epoch 12/15\n",
            "13/13 [==============================] - 0s 8ms/step - loss: 0.3596 - accuracy: 0.8778 - val_loss: 0.3032 - val_accuracy: 0.8905\n",
            "Epoch 13/15\n",
            "13/13 [==============================] - 0s 11ms/step - loss: 0.3556 - accuracy: 0.8778 - val_loss: 0.2981 - val_accuracy: 0.8905\n",
            "Epoch 14/15\n",
            "13/13 [==============================] - 0s 10ms/step - loss: 0.3521 - accuracy: 0.8802 - val_loss: 0.2960 - val_accuracy: 0.8905\n",
            "Epoch 15/15\n",
            "13/13 [==============================] - 0s 5ms/step - loss: 0.3493 - accuracy: 0.8802 - val_loss: 0.2936 - val_accuracy: 0.8905\n"
          ]
        },
        {
          "output_type": "execute_result",
          "data": {
            "text/plain": [
              "<keras.callbacks.History at 0x7f4d08859c50>"
            ]
          },
          "metadata": {},
          "execution_count": 40
        }
      ],
      "source": [
        "model.compile(loss=\"binary_crossentropy\", metrics=[\"accuracy\"], optimizer=\"adam\")\n",
        "model.fit(X_train, y_train, epochs=15, validation_data=(X_test, y_test))"
      ]
    },
    {
      "cell_type": "markdown",
      "source": [
        "The result of .predict function is in fractions so value greater than 0.5 is considered as 1 and less then 0.5 is 0\n",
        "\n",
        "Ran it for 15 epochs\n",
        "\n",
        "After printing the results and evaluating we see that this model rates better when compared to logistic regression however it is the best as random forest classifier has a better performance.\n",
        "\n",
        "Normally to my knowledge the performance of neural networks leads the way and is always very good then any other machine learning model usually but in our case we built a network for a simple dataset than random forest hence why it is second here ?\n",
        "TP and TN is very good here moreover the auc value is also very good as its scoring 89%."
      ],
      "metadata": {
        "id": "uZdMfdVuFwwE"
      }
    },
    {
      "cell_type": "code",
      "execution_count": null,
      "metadata": {
        "id": "_Mu_Ys37QiOA",
        "outputId": "27479952-4d27-4296-d30e-c533bfb1c534",
        "colab": {
          "base_uri": "https://localhost:8080/",
          "height": 1000
        }
      },
      "outputs": [
        {
          "output_type": "stream",
          "name": "stdout",
          "text": [
            "5/5 [==============================] - 0s 4ms/step\n",
            "+ ==================================================================================================== +\n",
            "\u001b[1m\t\t\tFor ANN The Performance result is: \u001b[0m\n",
            "+ ==================================================================================================== +\n",
            "Accuracy :  0.8905109489051095\n",
            "--------------------------------------------------\n",
            "F1 :  [0.8951049  0.88549618]\n",
            "--------------------------------------------------\n",
            "Recall :  [0.94117647 0.84057971]\n",
            "--------------------------------------------------\n",
            "Precision :  [0.85333333 0.93548387]\n",
            "--------------------------------------------------\n",
            "Confusion Matrix....\n",
            " [[64  4]\n",
            " [11 58]]\n",
            "--------------------------------------------------\n",
            "Classification Report....\n",
            "               precision    recall  f1-score   support\n",
            "\n",
            "           0       0.85      0.94      0.90        68\n",
            "           1       0.94      0.84      0.89        69\n",
            "\n",
            "    accuracy                           0.89       137\n",
            "   macro avg       0.89      0.89      0.89       137\n",
            "weighted avg       0.89      0.89      0.89       137\n",
            "\n",
            "--------------------------------------------------\n",
            "Plotting Confusion Matrix...\n",
            "\n"
          ]
        },
        {
          "output_type": "display_data",
          "data": {
            "text/plain": [
              "<Figure size 576x432 with 2 Axes>"
            ],
            "image/png": "[encoded data removed]"
          },
          "metadata": {}
        },
        {
          "output_type": "display_data",
          "data": {
            "text/plain": [
              "<Figure size 1008x360 with 1 Axes>"
            ],
            "image/png": "[encoded data removed]"
          },
          "metadata": {}
        }
      ],
      "source": [
        "y_pred = [1 if i>0.5 else 0 for i in model.predict(X_test)]\n",
        "evaluate(y_test, y_pred, \"ANN\")"
      ]
    },
    {
      "cell_type": "markdown",
      "source": [
        "**Model performance Comparision and Quick Evaluation**"
      ],
      "metadata": {
        "id": "uouJt-rTIHJw"
      }
    },
    {
      "cell_type": "markdown",
      "source": [
        "We compare the performance of all models in below dataframe :\n",
        "\n",
        "The accuracy of the random forest is 94% and accuracy of the logistic regression comes in third with 88% and accuracy of ANN is 89% so performance of random forest in terms of accuracy is the best, the ANN in 2nd.\n",
        "The precision score of random forest is again greater then logistic and the ANN. we notice that the ANN has a f1 score just a point above logistic regression however it has worse precision but a way better recall.\n",
        "\n",
        "Afer evalution :\n",
        "The Random forest is the go to model and the one i pick as it knocks everything out of the park when compared to the other two.\n",
        "\n"
      ],
      "metadata": {
        "id": "I_jybbrJIKHU"
      }
    },
    {
      "cell_type": "code",
      "execution_count": null,
      "metadata": {
        "id": "FYdq3dUpQiOA",
        "colab": {
          "base_uri": "https://localhost:8080/",
          "height": 144
        },
        "outputId": "750ce9a6-4758-4bd3-d53b-35c4fdf3cbf5"
      },
      "outputs": [
        {
          "output_type": "execute_result",
          "data": {
            "text/plain": [
              "metricss                    Accuracy Precision recall F1_Measure\n",
              "Logistic Regression results      88%       88%    88%        88%\n",
              "Random Forest results            94%       95%    92%        94%\n",
              "ANN results                      89%       85%    94%        89%"
            ],
            "text/html": [
              "\n",
              "  <div id=\"df-663a303f-6b91-4be9-837f-40197e12e1ea\">\n",
              "    <div class=\"colab-df-container\">\n",
              "      <div>\n",
              "<style scoped>\n",
              "    .dataframe tbody tr th:only-of-type {\n",
              "        vertical-align: middle;\n",
              "    }\n",
              "\n",
              "    .dataframe tbody tr th {\n",
              "        vertical-align: top;\n",
              "    }\n",
              "\n",
              "    .dataframe thead th {\n",
              "        text-align: right;\n",
              "    }\n",
              "</style>\n",
              "<table border=\"1\" class=\"dataframe\">\n",
              "  <thead>\n",
              "    <tr style=\"text-align: right;\">\n",
              "      <th>metricss</th>\n",
              "      <th>Accuracy</th>\n",
              "      <th>Precision</th>\n",
              "      <th>recall</th>\n",
              "      <th>F1_Measure</th>\n",
              "    </tr>\n",
              "  </thead>\n",
              "  <tbody>\n",
              "    <tr>\n",
              "      <th>Logistic Regression results</th>\n",
              "      <td>88%</td>\n",
              "      <td>88%</td>\n",
              "      <td>88%</td>\n",
              "      <td>88%</td>\n",
              "    </tr>\n",
              "    <tr>\n",
              "      <th>Random Forest results</th>\n",
              "      <td>94%</td>\n",
              "      <td>95%</td>\n",
              "      <td>92%</td>\n",
              "      <td>94%</td>\n",
              "    </tr>\n",
              "    <tr>\n",
              "      <th>ANN results</th>\n",
              "      <td>89%</td>\n",
              "      <td>85%</td>\n",
              "      <td>94%</td>\n",
              "      <td>89%</td>\n",
              "    </tr>\n",
              "  </tbody>\n",
              "</table>\n",
              "</div>\n",
              "      <button class=\"colab-df-convert\" onclick=\"convertToInteractive('df-663a303f-6b91-4be9-837f-40197e12e1ea')\"\n",
              "              title=\"Convert this dataframe to an interactive table.\"\n",
              "              style=\"display:none;\">\n",
              "        \n",
              "  <svg xmlns=\"http://www.w3.org/2000/svg\" height=\"24px\"viewBox=\"0 0 24 24\"\n",
              "       width=\"24px\">\n",
              "    <path d=\"M0 0h24v24H0V0z\" fill=\"none\"/>\n",
              "    <path d=\"M18.56 5.44l.94 2.06.94-2.06 2.06-.94-2.06-.94-.94-2.06-.94 2.06-2.06.94zm-11 1L8.5 8.5l.94-2.06 2.06-.94-2.06-.94L8.5 2.5l-.94 2.06-2.06.94zm10 10l.94 2.06.94-2.06 2.06-.94-2.06-.94-.94-2.06-.94 2.06-2.06.94z\"/><path d=\"M17.41 7.96l-1.37-1.37c-.4-.4-.92-.59-1.43-.59-.52 0-1.04.2-1.43.59L10.3 9.45l-7.72 7.72c-.78.78-.78 2.05 0 2.83L4 21.41c.39.39.9.59 1.41.59.51 0 1.02-.2 1.41-.59l7.78-7.78 2.81-2.81c.8-.78.8-2.07 0-2.86zM5.41 20L4 18.59l7.72-7.72 1.47 1.35L5.41 20z\"/>\n",
              "  </svg>\n",
              "      </button>\n",
              "      \n",
              "  <style>\n",
              "    .colab-df-container {\n",
              "      display:flex;\n",
              "      flex-wrap:wrap;\n",
              "      gap: 12px;\n",
              "    }\n",
              "\n",
              "    .colab-df-convert {\n",
              "      background-color: #E8F0FE;\n",
              "      border: none;\n",
              "      border-radius: 50%;\n",
              "      cursor: pointer;\n",
              "      display: none;\n",
              "      fill: #1967D2;\n",
              "      height: 32px;\n",
              "      padding: 0 0 0 0;\n",
              "      width: 32px;\n",
              "    }\n",
              "\n",
              "    .colab-df-convert:hover {\n",
              "      background-color: #E2EBFA;\n",
              "      box-shadow: 0px 1px 2px rgba(60, 64, 67, 0.3), 0px 1px 3px 1px rgba(60, 64, 67, 0.15);\n",
              "      fill: #174EA6;\n",
              "    }\n",
              "\n",
              "    [theme=dark] .colab-df-convert {\n",
              "      background-color: #3B4455;\n",
              "      fill: #D2E3FC;\n",
              "    }\n",
              "\n",
              "    [theme=dark] .colab-df-convert:hover {\n",
              "      background-color: #434B5C;\n",
              "      box-shadow: 0px 1px 3px 1px rgba(0, 0, 0, 0.15);\n",
              "      filter: drop-shadow(0px 1px 2px rgba(0, 0, 0, 0.3));\n",
              "      fill: #FFFFFF;\n",
              "    }\n",
              "  </style>\n",
              "\n",
              "      <script>\n",
              "        const buttonEl =\n",
              "          document.querySelector('#df-663a303f-6b91-4be9-837f-40197e12e1ea button.colab-df-convert');\n",
              "        buttonEl.style.display =\n",
              "          google.colab.kernel.accessAllowed ? 'block' : 'none';\n",
              "\n",
              "        async function convertToInteractive(key) {\n",
              "          const element = document.querySelector('#df-663a303f-6b91-4be9-837f-40197e12e1ea');\n",
              "          const dataTable =\n",
              "            await google.colab.kernel.invokeFunction('convertToInteractive',\n",
              "                                                     [key], {});\n",
              "          if (!dataTable) return;\n",
              "\n",
              "          const docLinkHtml = 'Like what you see? Visit the ' +\n",
              "            '<a target=\"_blank\" href=https://colab.research.google.com/notebooks/data_table.ipynb>data table notebook</a>'\n",
              "            + ' to learn more about interactive tables.';\n",
              "          element.innerHTML = '';\n",
              "          dataTable['output_type'] = 'display_data';\n",
              "          await google.colab.output.renderOutput(dataTable, element);\n",
              "          const docLink = document.createElement('div');\n",
              "          docLink.innerHTML = docLinkHtml;\n",
              "          element.appendChild(docLink);\n",
              "        }\n",
              "      </script>\n",
              "    </div>\n",
              "  </div>\n",
              "  "
            ]
          },
          "metadata": {},
          "execution_count": 54
        }
      ],
      "source": [
        "d={\n",
        "'metricss':[\"Accuracy\",\"Precision\",\"recall\",\"F1_Measure\"],\n",
        "'Logistic Regression results':['88%','88%','88%','88%'],\n",
        "'Random Forest results':['94%','95%','92%','94%'],\n",
        "'ANN results':['89%','85%','94%','89%'],\n",
        "}\n",
        "df_result=pd.DataFrame(data=d)\n",
        "df_result.set_index('metricss').T"
      ]
    },
    {
      "cell_type": "markdown",
      "source": [
        "I added Hyperparamter tuning to see its effects on the model's outcome."
      ],
      "metadata": {
        "id": "RHAgnyNd04WH"
      }
    },
    {
      "cell_type": "markdown",
      "source": [
        "# **Hyperparameter tuning**"
      ],
      "metadata": {
        "id": "VmVPt81OkbyJ"
      }
    },
    {
      "cell_type": "markdown",
      "source": [
        "**Logistic Regression**"
      ],
      "metadata": {
        "id": "Z1HUs9NbMjzn"
      }
    },
    {
      "cell_type": "markdown",
      "source": [
        "The performance of the logistic regression after tuning is affected because our dataset is already very simple hence why we did not need to make a complex model or in other word no need to tune the model as its internal external parameters performed really well with default settings/values.\n"
      ],
      "metadata": {
        "id": "1DoyUYp7O9zI"
      }
    },
    {
      "cell_type": "code",
      "source": [
        "from sklearn.datasets import make_blobs\n",
        "from sklearn.model_selection import RepeatedStratifiedKFold\n",
        "from sklearn.model_selection import GridSearchCV\n",
        "from sklearn.linear_model import LogisticRegression\n",
        "# define dataset\n",
        "X, y = make_blobs(n_samples=1000, centers=2, n_features=100, cluster_std=20)\n",
        "# define models and parameters\n",
        "model = LogisticRegression()\n",
        "solvers = ['newton-cg', 'lbfgs', 'liblinear']\n",
        "penalty = ['l2']\n",
        "c_values = [100, 10, 1.0, 0.1, 0.01]\n",
        "# define grid search\n",
        "grid = dict(solver=solvers,penalty=penalty,C=c_values)\n",
        "cv = RepeatedStratifiedKFold(n_splits=10, n_repeats=3, random_state=1)\n",
        "grid_search = GridSearchCV(estimator=model, param_grid=grid, n_jobs=-1, cv=cv, scoring='accuracy',error_score=0)\n",
        "grid_result = grid_search.fit(X_train, y_train)\n",
        "# summarize results\n",
        "print(\"Best: %f using %s\" % (grid_result.best_score_, grid_result.best_params_))\n",
        "means = grid_result.cv_results_['mean_test_score']\n",
        "stds = grid_result.cv_results_['std_test_score']\n",
        "params = grid_result.cv_results_['params']\n",
        "for mean, stdev, param in zip(means, stds, params):\n",
        "    print(\"%f (%f) with: %r\" % (mean, stdev, param))\n",
        "\n",
        "\n",
        "\n",
        ""
      ],
      "metadata": {
        "colab": {
          "base_uri": "https://localhost:8080/"
        },
        "id": "s0sjeDR_keuF",
        "outputId": "8cec0905-62f8-4b71-e186-a371a42ccf7e"
      },
      "execution_count": null,
      "outputs": [
        {
          "output_type": "stream",
          "name": "stdout",
          "text": [
            "Best: 0.873801 using {'C': 0.1, 'penalty': 'l2', 'solver': 'newton-cg'}\n",
            "0.867256 (0.055092) with: {'C': 100, 'penalty': 'l2', 'solver': 'newton-cg'}\n",
            "0.867256 (0.055092) with: {'C': 100, 'penalty': 'l2', 'solver': 'lbfgs'}\n",
            "0.867256 (0.055092) with: {'C': 100, 'penalty': 'l2', 'solver': 'liblinear'}\n",
            "0.867256 (0.054730) with: {'C': 10, 'penalty': 'l2', 'solver': 'newton-cg'}\n",
            "0.867256 (0.054730) with: {'C': 10, 'penalty': 'l2', 'solver': 'lbfgs'}\n",
            "0.866443 (0.054745) with: {'C': 10, 'penalty': 'l2', 'solver': 'liblinear'}\n",
            "0.865610 (0.054362) with: {'C': 1.0, 'penalty': 'l2', 'solver': 'newton-cg'}\n",
            "0.865610 (0.054362) with: {'C': 1.0, 'penalty': 'l2', 'solver': 'lbfgs'}\n",
            "0.864797 (0.054716) with: {'C': 1.0, 'penalty': 'l2', 'solver': 'liblinear'}\n",
            "0.873801 (0.053716) with: {'C': 0.1, 'penalty': 'l2', 'solver': 'newton-cg'}\n",
            "0.873801 (0.053716) with: {'C': 0.1, 'penalty': 'l2', 'solver': 'lbfgs'}\n",
            "0.868110 (0.054618) with: {'C': 0.1, 'penalty': 'l2', 'solver': 'liblinear'}\n",
            "0.868089 (0.054306) with: {'C': 0.01, 'penalty': 'l2', 'solver': 'newton-cg'}\n",
            "0.868089 (0.054306) with: {'C': 0.01, 'penalty': 'l2', 'solver': 'lbfgs'}\n",
            "0.864004 (0.056885) with: {'C': 0.01, 'penalty': 'l2', 'solver': 'liblinear'}\n"
          ]
        }
      ]
    },
    {
      "cell_type": "code",
      "source": [
        "y_pred = grid_search.predict(X_test)\n",
        "evaluate(y_test, y_pred, \" Tuned Logistic Regression\")"
      ],
      "metadata": {
        "colab": {
          "base_uri": "https://localhost:8080/",
          "height": 1000
        },
        "id": "AR1mg6tMllch",
        "outputId": "c47527d9-f2ab-448b-a4d2-add7b4ecff51"
      },
      "execution_count": null,
      "outputs": [
        {
          "output_type": "stream",
          "name": "stdout",
          "text": [
            "+ ==================================================================================================== +\n",
            "\u001b[1m\t\t\tFor  TUNED LOGISTIC REGRESSION The Performance result is: \u001b[0m\n",
            "+ ==================================================================================================== +\n",
            "Accuracy :  0.8759124087591241\n",
            "--------------------------------------------------\n",
            "F1 :  [0.87769784 0.87407407]\n",
            "--------------------------------------------------\n",
            "Recall :  [0.89705882 0.85507246]\n",
            "--------------------------------------------------\n",
            "Precision :  [0.85915493 0.89393939]\n",
            "--------------------------------------------------\n",
            "Confusion Matrix....\n",
            " [[61  7]\n",
            " [10 59]]\n",
            "--------------------------------------------------\n",
            "Classification Report....\n",
            "               precision    recall  f1-score   support\n",
            "\n",
            "           0       0.86      0.90      0.88        68\n",
            "           1       0.89      0.86      0.87        69\n",
            "\n",
            "    accuracy                           0.88       137\n",
            "   macro avg       0.88      0.88      0.88       137\n",
            "weighted avg       0.88      0.88      0.88       137\n",
            "\n",
            "--------------------------------------------------\n",
            "Plotting Confusion Matrix...\n",
            "\n"
          ]
        },
        {
          "output_type": "display_data",
          "data": {
            "text/plain": [
              "<Figure size 576x432 with 2 Axes>"
            ],
            "image/png": "[encoded data removed]"
          },
          "metadata": {}
        },
        {
          "output_type": "display_data",
          "data": {
            "text/plain": [
              "<Figure size 1008x360 with 1 Axes>"
            ],
            "image/png": "[encoded data removed]"
          },
          "metadata": {}
        }
      ]
    },
    {
      "cell_type": "markdown",
      "source": [
        "**Hyperparameter tuning of Random Forest**"
      ],
      "metadata": {
        "id": "8_4dQscEMnQn"
      }
    },
    {
      "cell_type": "markdown",
      "source": [
        "The performance of Random Forest  after tuning is affected however it imporved just slightly however the first result we got was more than enough as the accuracy of that was 94 percent."
      ],
      "metadata": {
        "id": "xKplWADjRfnK"
      }
    },
    {
      "cell_type": "code",
      "source": [
        "from sklearn.model_selection import GridSearchCV\n",
        "# Create the parameter grid based on the results of random search\n",
        "param_ = {\n",
        "    'max_depth': [80, 90],\n",
        "    'max_features': [2, 3],\n",
        "    'n_estimators': [100, 1000]\n",
        "}\n",
        "# Create a based model\n",
        "rf = RandomForestClassifier()\n",
        "# Instantiate the grid search model\n",
        "grid_search = GridSearchCV(estimator = rf, param_grid = param_, n_jobs = -1, verbose = 2)"
      ],
      "metadata": {
        "id": "4RgIz9LjMviF"
      },
      "execution_count": null,
      "outputs": []
    },
    {
      "cell_type": "code",
      "source": [
        "# Fit the grid search to the data\n",
        "grid_search.fit(X_train,y_train)\n",
        "grid_search.best_params_"
      ],
      "metadata": {
        "colab": {
          "base_uri": "https://localhost:8080/"
        },
        "id": "SbAojxiTNRnJ",
        "outputId": "f1e208f4-9941-451e-8c8e-6ecd0f9a8ad4"
      },
      "execution_count": null,
      "outputs": [
        {
          "output_type": "stream",
          "name": "stdout",
          "text": [
            "Fitting 5 folds for each of 8 candidates, totalling 40 fits\n"
          ]
        },
        {
          "output_type": "execute_result",
          "data": {
            "text/plain": [
              "{'max_depth': 90, 'max_features': 2, 'n_estimators': 100}"
            ]
          },
          "metadata": {},
          "execution_count": 46
        }
      ]
    },
    {
      "cell_type": "code",
      "source": [
        "y_pred = grid_search.predict(X_test)\n",
        "evaluate(y_test, y_pred, \"Tuned Random Forest\")"
      ],
      "metadata": {
        "colab": {
          "base_uri": "https://localhost:8080/",
          "height": 1000
        },
        "id": "o7fSwndFNYLo",
        "outputId": "7cea7a88-4fec-4bbe-f5a8-2a68de518035"
      },
      "execution_count": null,
      "outputs": [
        {
          "output_type": "stream",
          "name": "stdout",
          "text": [
            "+ ==================================================================================================== +\n",
            "\u001b[1m\t\t\tFor TUNED RANDOM FOREST The Performance result is: \u001b[0m\n",
            "+ ==================================================================================================== +\n",
            "Accuracy :  0.948905109489051\n",
            "--------------------------------------------------\n",
            "F1 :  [0.94814815 0.94964029]\n",
            "--------------------------------------------------\n",
            "Recall :  [0.94117647 0.95652174]\n",
            "--------------------------------------------------\n",
            "Precision :  [0.95522388 0.94285714]\n",
            "--------------------------------------------------\n",
            "Confusion Matrix....\n",
            " [[64  4]\n",
            " [ 3 66]]\n",
            "--------------------------------------------------\n",
            "Classification Report....\n",
            "               precision    recall  f1-score   support\n",
            "\n",
            "           0       0.96      0.94      0.95        68\n",
            "           1       0.94      0.96      0.95        69\n",
            "\n",
            "    accuracy                           0.95       137\n",
            "   macro avg       0.95      0.95      0.95       137\n",
            "weighted avg       0.95      0.95      0.95       137\n",
            "\n",
            "--------------------------------------------------\n",
            "Plotting Confusion Matrix...\n",
            "\n"
          ]
        },
        {
          "output_type": "display_data",
          "data": {
            "text/plain": [
              "<Figure size 576x432 with 2 Axes>"
            ],
            "image/png": "[encoded data removed]"
          },
          "metadata": {}
        },
        {
          "output_type": "display_data",
          "data": {
            "text/plain": [
              "<Figure size 1008x360 with 1 Axes>"
            ],
            "image/png": "[encoded data removed]"
          },
          "metadata": {}
        }
      ]
    },
    {
      "cell_type": "markdown",
      "source": [
        "**Hyperparameter tuning of ANN**"
      ],
      "metadata": {
        "id": "_av_LnpxNkGg"
      }
    },
    {
      "cell_type": "markdown",
      "source": [
        "The performance of ANN after tuning is affected and provides worse results then when using the default values. I see no need with adding new layers or changing the optimizer because rmsprop updates the loss in a different way."
      ],
      "metadata": {
        "id": "ngH8O21LViiP"
      }
    },
    {
      "cell_type": "code",
      "source": [
        "model = Sequential()\n",
        "model.add(Dense(32, input_dim=X_train.shape[1], activation=\"relu\"))\n",
        "model.add(Dense(16, activation=\"relu\"))\n",
        "model.add(Dense(8, activation=\"relu\"))\n",
        "model.add(Dense(1, activation=\"sigmoid\"))\n",
        "model.summary()"
      ],
      "metadata": {
        "colab": {
          "base_uri": "https://localhost:8080/"
        },
        "id": "k2Ujy032NCYd",
        "outputId": "d6aded21-3157-4de4-d382-a8108a951d36"
      },
      "execution_count": null,
      "outputs": [
        {
          "output_type": "stream",
          "name": "stdout",
          "text": [
            "Model: \"sequential_1\"\n",
            "_________________________________________________________________\n",
            " Layer (type)                Output Shape              Param #   \n",
            "=================================================================\n",
            " dense_3 (Dense)             (None, 32)                384       \n",
            "                                                                 \n",
            " dense_4 (Dense)             (None, 16)                528       \n",
            "                                                                 \n",
            " dense_5 (Dense)             (None, 8)                 136       \n",
            "                                                                 \n",
            " dense_6 (Dense)             (None, 1)                 9         \n",
            "                                                                 \n",
            "=================================================================\n",
            "Total params: 1,057\n",
            "Trainable params: 1,057\n",
            "Non-trainable params: 0\n",
            "_________________________________________________________________\n"
          ]
        }
      ]
    },
    {
      "cell_type": "code",
      "source": [
        "model.compile(loss=\"binary_crossentropy\", metrics=[\"accuracy\"], optimizer=\"RMSProp\")\n",
        "model.fit(X_train, y_train, epochs=15, validation_data=(X_test, y_test))"
      ],
      "metadata": {
        "colab": {
          "base_uri": "https://localhost:8080/"
        },
        "id": "q9Pr8OQrOj4Y",
        "outputId": "db6cec77-5017-4766-e1d3-15e35f8fb920"
      },
      "execution_count": null,
      "outputs": [
        {
          "output_type": "stream",
          "name": "stdout",
          "text": [
            "Epoch 1/15\n",
            "13/13 [==============================] - 1s 20ms/step - loss: 0.6254 - accuracy: 0.6822 - val_loss: 0.5917 - val_accuracy: 0.7153\n",
            "Epoch 2/15\n",
            "13/13 [==============================] - 0s 5ms/step - loss: 0.5747 - accuracy: 0.7971 - val_loss: 0.5360 - val_accuracy: 0.7737\n",
            "Epoch 3/15\n",
            "13/13 [==============================] - 0s 5ms/step - loss: 0.5138 - accuracy: 0.8362 - val_loss: 0.4701 - val_accuracy: 0.8248\n",
            "Epoch 4/15\n",
            "13/13 [==============================] - 0s 5ms/step - loss: 0.4610 - accuracy: 0.8484 - val_loss: 0.4185 - val_accuracy: 0.8248\n",
            "Epoch 5/15\n",
            "13/13 [==============================] - 0s 5ms/step - loss: 0.4220 - accuracy: 0.8582 - val_loss: 0.3802 - val_accuracy: 0.8248\n",
            "Epoch 6/15\n",
            "13/13 [==============================] - 0s 7ms/step - loss: 0.3942 - accuracy: 0.8582 - val_loss: 0.3513 - val_accuracy: 0.8686\n",
            "Epoch 7/15\n",
            "13/13 [==============================] - 0s 5ms/step - loss: 0.3739 - accuracy: 0.8606 - val_loss: 0.3298 - val_accuracy: 0.8686\n",
            "Epoch 8/15\n",
            "13/13 [==============================] - 0s 5ms/step - loss: 0.3602 - accuracy: 0.8631 - val_loss: 0.3186 - val_accuracy: 0.8686\n",
            "Epoch 9/15\n",
            "13/13 [==============================] - 0s 6ms/step - loss: 0.3517 - accuracy: 0.8655 - val_loss: 0.3104 - val_accuracy: 0.8686\n",
            "Epoch 10/15\n",
            "13/13 [==============================] - 0s 5ms/step - loss: 0.3460 - accuracy: 0.8704 - val_loss: 0.3051 - val_accuracy: 0.8686\n",
            "Epoch 11/15\n",
            "13/13 [==============================] - 0s 4ms/step - loss: 0.3418 - accuracy: 0.8704 - val_loss: 0.3018 - val_accuracy: 0.8832\n",
            "Epoch 12/15\n",
            "13/13 [==============================] - 0s 5ms/step - loss: 0.3374 - accuracy: 0.8680 - val_loss: 0.3017 - val_accuracy: 0.8759\n",
            "Epoch 13/15\n",
            "13/13 [==============================] - 0s 4ms/step - loss: 0.3343 - accuracy: 0.8753 - val_loss: 0.2998 - val_accuracy: 0.8759\n",
            "Epoch 14/15\n",
            "13/13 [==============================] - 0s 6ms/step - loss: 0.3309 - accuracy: 0.8729 - val_loss: 0.2979 - val_accuracy: 0.8759\n",
            "Epoch 15/15\n",
            "13/13 [==============================] - 0s 6ms/step - loss: 0.3287 - accuracy: 0.8778 - val_loss: 0.2957 - val_accuracy: 0.8759\n"
          ]
        },
        {
          "output_type": "execute_result",
          "data": {
            "text/plain": [
              "<keras.callbacks.History at 0x7f4ca7f12ed0>"
            ]
          },
          "metadata": {},
          "execution_count": 49
        }
      ]
    },
    {
      "cell_type": "code",
      "source": [
        "y_pred = [1 if i>0.5 else 0 for i in model.predict(X_test)]\n",
        "evaluate(y_test, y_pred, \"Tuned ANN\")"
      ],
      "metadata": {
        "colab": {
          "base_uri": "https://localhost:8080/",
          "height": 1000
        },
        "id": "IpB6ogLFWJPp",
        "outputId": "6e077a0c-073f-441b-bd1f-01a874f8ede4"
      },
      "execution_count": null,
      "outputs": [
        {
          "output_type": "stream",
          "name": "stdout",
          "text": [
            "5/5 [==============================] - 0s 3ms/step\n",
            "+ ==================================================================================================== +\n",
            "\u001b[1m\t\t\tFor TUNED ANN The Performance result is: \u001b[0m\n",
            "+ ==================================================================================================== +\n",
            "Accuracy :  0.8759124087591241\n",
            "--------------------------------------------------\n",
            "F1 :  [0.87591241 0.87591241]\n",
            "--------------------------------------------------\n",
            "Recall :  [0.88235294 0.86956522]\n",
            "--------------------------------------------------\n",
            "Precision :  [0.86956522 0.88235294]\n",
            "--------------------------------------------------\n",
            "Confusion Matrix....\n",
            " [[60  8]\n",
            " [ 9 60]]\n",
            "--------------------------------------------------\n",
            "Classification Report....\n",
            "               precision    recall  f1-score   support\n",
            "\n",
            "           0       0.87      0.88      0.88        68\n",
            "           1       0.88      0.87      0.88        69\n",
            "\n",
            "    accuracy                           0.88       137\n",
            "   macro avg       0.88      0.88      0.88       137\n",
            "weighted avg       0.88      0.88      0.88       137\n",
            "\n",
            "--------------------------------------------------\n",
            "Plotting Confusion Matrix...\n",
            "\n"
          ]
        },
        {
          "output_type": "display_data",
          "data": {
            "text/plain": [
              "<Figure size 576x432 with 2 Axes>"
            ],
            "image/png": "[encoded data removed]"
          },
          "metadata": {}
        },
        {
          "output_type": "display_data",
          "data": {
            "text/plain": [
              "<Figure size 1008x360 with 1 Axes>"
            ],
            "image/png": "[encoded data removed]"
          },
          "metadata": {}
        }
      ]
    }
  ],
  "metadata": {
    "kernelspec": {
      "display_name": "Python 3",
      "language": "python",
      "name": "python3"
    },
    "language_info": {
      "codemirror_mode": {
        "name": "ipython",
        "version": 3
      },
      "file_extension": ".py",
      "mimetype": "text/x-python",
      "name": "python",
      "nbconvert_exporter": "python",
      "pygments_lexer": "ipython3",
      "version": "3.8.5"
    },
    "colab": {
      "provenance": []
    }
  },
  "nbformat": 4,
  "nbformat_minor": 0
}